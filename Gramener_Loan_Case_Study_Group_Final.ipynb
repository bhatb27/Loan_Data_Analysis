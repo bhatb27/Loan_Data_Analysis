{
 "cells": [
  {
   "cell_type": "markdown",
   "metadata": {},
   "source": [
    "# Gramener Case Study\n"
   ]
  },
  {
   "cell_type": "markdown",
   "metadata": {},
   "source": [
    "# Business Objectives\n",
    "\n",
    "Work for a consumer finance company: This company is the largest online loan marketplace, facilitating personal loans, business loans, and financing of medical procedures. Borrowers can easily access lower interest rate loans through a fast online interface.\n",
    "\n",
    "Like most other lending companies, lending loans to ‘risky’ applicants is the largest source of financial loss (called credit loss). The credit loss is the amount of money lost by the lender when the borrower refuses to pay or runs away with the money owed. In other words, borrowers who default cause the largest amount of loss to the lenders. In this case, the customers labelled as 'charged-off' are the 'defaulters'.\n",
    "\n",
    "Aim is to identify these risky loan applicants, then such loans can be reduced thereby cutting down the amount of credit loss.\n",
    "\n",
    "\n"
   ]
  },
  {
   "cell_type": "markdown",
   "metadata": {},
   "source": [
    "# Importing Packages:"
   ]
  },
  {
   "cell_type": "code",
   "execution_count": 1,
   "metadata": {},
   "outputs": [],
   "source": [
    "import numpy as np\n",
    "import pandas as pd\n",
    "import matplotlib.pyplot as plt\n",
    "import seaborn as sns\n",
    "from datetime import datetime, timedelta, date\n",
    "import datetime as dt\n",
    "import os"
   ]
  },
  {
   "cell_type": "markdown",
   "metadata": {},
   "source": [
    "# Importing Data:"
   ]
  },
  {
   "cell_type": "code",
   "execution_count": 2,
   "metadata": {},
   "outputs": [],
   "source": [
    "loan = pd.read_csv(\"C:/Users/Karthik Bhat/Documents/PGDDS/Case Project/Gramener/loan.csv\", low_memory=False)"
   ]
  },
  {
   "cell_type": "code",
   "execution_count": 3,
   "metadata": {},
   "outputs": [
    {
     "data": {
      "text/plain": [
       "Index(['id', 'member_id', 'loan_amnt', 'funded_amnt', 'funded_amnt_inv',\n",
       "       'term', 'int_rate', 'installment', 'grade', 'sub_grade',\n",
       "       ...\n",
       "       'num_tl_90g_dpd_24m', 'num_tl_op_past_12m', 'pct_tl_nvr_dlq',\n",
       "       'percent_bc_gt_75', 'pub_rec_bankruptcies', 'tax_liens',\n",
       "       'tot_hi_cred_lim', 'total_bal_ex_mort', 'total_bc_limit',\n",
       "       'total_il_high_credit_limit'],\n",
       "      dtype='object', length=111)"
      ]
     },
     "execution_count": 3,
     "metadata": {},
     "output_type": "execute_result"
    }
   ],
   "source": [
    "loan.columns"
   ]
  },
  {
   "cell_type": "code",
   "execution_count": 4,
   "metadata": {},
   "outputs": [
    {
     "name": "stdout",
     "output_type": "stream",
     "text": [
      "<class 'pandas.core.frame.DataFrame'>\n",
      "RangeIndex: 39717 entries, 0 to 39716\n",
      "Columns: 111 entries, id to total_il_high_credit_limit\n",
      "dtypes: float64(74), int64(13), object(24)\n",
      "memory usage: 33.6+ MB\n"
     ]
    }
   ],
   "source": [
    "loan.info()"
   ]
  },
  {
   "cell_type": "code",
   "execution_count": 5,
   "metadata": {},
   "outputs": [
    {
     "data": {
      "text/plain": [
       "(39717, 111)"
      ]
     },
     "execution_count": 5,
     "metadata": {},
     "output_type": "execute_result"
    }
   ],
   "source": [
    "loan.shape"
   ]
  },
  {
   "cell_type": "markdown",
   "metadata": {},
   "source": [
    "# Dealing with missing value:"
   ]
  },
  {
   "cell_type": "code",
   "execution_count": 6,
   "metadata": {},
   "outputs": [
    {
     "data": {
      "text/plain": [
       "id                                    0\n",
       "member_id                             0\n",
       "loan_amnt                             0\n",
       "funded_amnt                           0\n",
       "funded_amnt_inv                       0\n",
       "term                                  0\n",
       "int_rate                              0\n",
       "installment                           0\n",
       "grade                                 0\n",
       "sub_grade                             0\n",
       "emp_title                          2459\n",
       "emp_length                         1075\n",
       "home_ownership                        0\n",
       "annual_inc                            0\n",
       "verification_status                   0\n",
       "issue_d                               0\n",
       "loan_status                           0\n",
       "pymnt_plan                            0\n",
       "url                                   0\n",
       "desc                              12940\n",
       "purpose                               0\n",
       "title                                11\n",
       "zip_code                              0\n",
       "addr_state                            0\n",
       "dti                                   0\n",
       "delinq_2yrs                           0\n",
       "earliest_cr_line                      0\n",
       "inq_last_6mths                        0\n",
       "mths_since_last_delinq            25682\n",
       "mths_since_last_record            36931\n",
       "                                  ...  \n",
       "mo_sin_old_rev_tl_op              39717\n",
       "mo_sin_rcnt_rev_tl_op             39717\n",
       "mo_sin_rcnt_tl                    39717\n",
       "mort_acc                          39717\n",
       "mths_since_recent_bc              39717\n",
       "mths_since_recent_bc_dlq          39717\n",
       "mths_since_recent_inq             39717\n",
       "mths_since_recent_revol_delinq    39717\n",
       "num_accts_ever_120_pd             39717\n",
       "num_actv_bc_tl                    39717\n",
       "num_actv_rev_tl                   39717\n",
       "num_bc_sats                       39717\n",
       "num_bc_tl                         39717\n",
       "num_il_tl                         39717\n",
       "num_op_rev_tl                     39717\n",
       "num_rev_accts                     39717\n",
       "num_rev_tl_bal_gt_0               39717\n",
       "num_sats                          39717\n",
       "num_tl_120dpd_2m                  39717\n",
       "num_tl_30dpd                      39717\n",
       "num_tl_90g_dpd_24m                39717\n",
       "num_tl_op_past_12m                39717\n",
       "pct_tl_nvr_dlq                    39717\n",
       "percent_bc_gt_75                  39717\n",
       "pub_rec_bankruptcies                697\n",
       "tax_liens                            39\n",
       "tot_hi_cred_lim                   39717\n",
       "total_bal_ex_mort                 39717\n",
       "total_bc_limit                    39717\n",
       "total_il_high_credit_limit        39717\n",
       "Length: 111, dtype: int64"
      ]
     },
     "execution_count": 6,
     "metadata": {},
     "output_type": "execute_result"
    }
   ],
   "source": [
    "loan.isnull().sum()"
   ]
  },
  {
   "cell_type": "code",
   "execution_count": 7,
   "metadata": {},
   "outputs": [
    {
     "data": {
      "text/plain": [
       "id                                  0.00\n",
       "member_id                           0.00\n",
       "loan_amnt                           0.00\n",
       "funded_amnt                         0.00\n",
       "funded_amnt_inv                     0.00\n",
       "term                                0.00\n",
       "int_rate                            0.00\n",
       "installment                         0.00\n",
       "grade                               0.00\n",
       "sub_grade                           0.00\n",
       "emp_title                           6.19\n",
       "emp_length                          2.71\n",
       "home_ownership                      0.00\n",
       "annual_inc                          0.00\n",
       "verification_status                 0.00\n",
       "issue_d                             0.00\n",
       "loan_status                         0.00\n",
       "pymnt_plan                          0.00\n",
       "url                                 0.00\n",
       "desc                               32.58\n",
       "purpose                             0.00\n",
       "title                               0.03\n",
       "zip_code                            0.00\n",
       "addr_state                          0.00\n",
       "dti                                 0.00\n",
       "delinq_2yrs                         0.00\n",
       "earliest_cr_line                    0.00\n",
       "inq_last_6mths                      0.00\n",
       "mths_since_last_delinq             64.66\n",
       "mths_since_last_record             92.99\n",
       "                                   ...  \n",
       "mo_sin_old_rev_tl_op              100.00\n",
       "mo_sin_rcnt_rev_tl_op             100.00\n",
       "mo_sin_rcnt_tl                    100.00\n",
       "mort_acc                          100.00\n",
       "mths_since_recent_bc              100.00\n",
       "mths_since_recent_bc_dlq          100.00\n",
       "mths_since_recent_inq             100.00\n",
       "mths_since_recent_revol_delinq    100.00\n",
       "num_accts_ever_120_pd             100.00\n",
       "num_actv_bc_tl                    100.00\n",
       "num_actv_rev_tl                   100.00\n",
       "num_bc_sats                       100.00\n",
       "num_bc_tl                         100.00\n",
       "num_il_tl                         100.00\n",
       "num_op_rev_tl                     100.00\n",
       "num_rev_accts                     100.00\n",
       "num_rev_tl_bal_gt_0               100.00\n",
       "num_sats                          100.00\n",
       "num_tl_120dpd_2m                  100.00\n",
       "num_tl_30dpd                      100.00\n",
       "num_tl_90g_dpd_24m                100.00\n",
       "num_tl_op_past_12m                100.00\n",
       "pct_tl_nvr_dlq                    100.00\n",
       "percent_bc_gt_75                  100.00\n",
       "pub_rec_bankruptcies                1.75\n",
       "tax_liens                           0.10\n",
       "tot_hi_cred_lim                   100.00\n",
       "total_bal_ex_mort                 100.00\n",
       "total_bc_limit                    100.00\n",
       "total_il_high_credit_limit        100.00\n",
       "Length: 111, dtype: float64"
      ]
     },
     "execution_count": 7,
     "metadata": {},
     "output_type": "execute_result"
    }
   ],
   "source": [
    "round(100*(loan.isnull().sum()/len(loan.index)), 2)"
   ]
  },
  {
   "cell_type": "code",
   "execution_count": 8,
   "metadata": {},
   "outputs": [],
   "source": [
    "loan_1 = loan.dropna(axis=1, how='all',inplace=False) #Dropping column with all NULL values"
   ]
  },
  {
   "cell_type": "code",
   "execution_count": 9,
   "metadata": {},
   "outputs": [
    {
     "data": {
      "text/html": [
       "<div>\n",
       "<style scoped>\n",
       "    .dataframe tbody tr th:only-of-type {\n",
       "        vertical-align: middle;\n",
       "    }\n",
       "\n",
       "    .dataframe tbody tr th {\n",
       "        vertical-align: top;\n",
       "    }\n",
       "\n",
       "    .dataframe thead th {\n",
       "        text-align: right;\n",
       "    }\n",
       "</style>\n",
       "<table border=\"1\" class=\"dataframe\">\n",
       "  <thead>\n",
       "    <tr style=\"text-align: right;\">\n",
       "      <th></th>\n",
       "      <th>id</th>\n",
       "      <th>member_id</th>\n",
       "      <th>loan_amnt</th>\n",
       "      <th>funded_amnt</th>\n",
       "      <th>funded_amnt_inv</th>\n",
       "      <th>term</th>\n",
       "      <th>int_rate</th>\n",
       "      <th>installment</th>\n",
       "      <th>grade</th>\n",
       "      <th>sub_grade</th>\n",
       "      <th>...</th>\n",
       "      <th>next_pymnt_d</th>\n",
       "      <th>last_credit_pull_d</th>\n",
       "      <th>collections_12_mths_ex_med</th>\n",
       "      <th>policy_code</th>\n",
       "      <th>application_type</th>\n",
       "      <th>acc_now_delinq</th>\n",
       "      <th>chargeoff_within_12_mths</th>\n",
       "      <th>delinq_amnt</th>\n",
       "      <th>pub_rec_bankruptcies</th>\n",
       "      <th>tax_liens</th>\n",
       "    </tr>\n",
       "  </thead>\n",
       "  <tbody>\n",
       "    <tr>\n",
       "      <th>0</th>\n",
       "      <td>1077501</td>\n",
       "      <td>1296599</td>\n",
       "      <td>5000</td>\n",
       "      <td>5000</td>\n",
       "      <td>4975.0</td>\n",
       "      <td>36 months</td>\n",
       "      <td>10.65%</td>\n",
       "      <td>162.87</td>\n",
       "      <td>B</td>\n",
       "      <td>B2</td>\n",
       "      <td>...</td>\n",
       "      <td>NaN</td>\n",
       "      <td>May-16</td>\n",
       "      <td>0.0</td>\n",
       "      <td>1</td>\n",
       "      <td>INDIVIDUAL</td>\n",
       "      <td>0</td>\n",
       "      <td>0.0</td>\n",
       "      <td>0</td>\n",
       "      <td>0.0</td>\n",
       "      <td>0.0</td>\n",
       "    </tr>\n",
       "    <tr>\n",
       "      <th>1</th>\n",
       "      <td>1077430</td>\n",
       "      <td>1314167</td>\n",
       "      <td>2500</td>\n",
       "      <td>2500</td>\n",
       "      <td>2500.0</td>\n",
       "      <td>60 months</td>\n",
       "      <td>15.27%</td>\n",
       "      <td>59.83</td>\n",
       "      <td>C</td>\n",
       "      <td>C4</td>\n",
       "      <td>...</td>\n",
       "      <td>NaN</td>\n",
       "      <td>Sep-13</td>\n",
       "      <td>0.0</td>\n",
       "      <td>1</td>\n",
       "      <td>INDIVIDUAL</td>\n",
       "      <td>0</td>\n",
       "      <td>0.0</td>\n",
       "      <td>0</td>\n",
       "      <td>0.0</td>\n",
       "      <td>0.0</td>\n",
       "    </tr>\n",
       "    <tr>\n",
       "      <th>2</th>\n",
       "      <td>1077175</td>\n",
       "      <td>1313524</td>\n",
       "      <td>2400</td>\n",
       "      <td>2400</td>\n",
       "      <td>2400.0</td>\n",
       "      <td>36 months</td>\n",
       "      <td>15.96%</td>\n",
       "      <td>84.33</td>\n",
       "      <td>C</td>\n",
       "      <td>C5</td>\n",
       "      <td>...</td>\n",
       "      <td>NaN</td>\n",
       "      <td>May-16</td>\n",
       "      <td>0.0</td>\n",
       "      <td>1</td>\n",
       "      <td>INDIVIDUAL</td>\n",
       "      <td>0</td>\n",
       "      <td>0.0</td>\n",
       "      <td>0</td>\n",
       "      <td>0.0</td>\n",
       "      <td>0.0</td>\n",
       "    </tr>\n",
       "    <tr>\n",
       "      <th>3</th>\n",
       "      <td>1076863</td>\n",
       "      <td>1277178</td>\n",
       "      <td>10000</td>\n",
       "      <td>10000</td>\n",
       "      <td>10000.0</td>\n",
       "      <td>36 months</td>\n",
       "      <td>13.49%</td>\n",
       "      <td>339.31</td>\n",
       "      <td>C</td>\n",
       "      <td>C1</td>\n",
       "      <td>...</td>\n",
       "      <td>NaN</td>\n",
       "      <td>Apr-16</td>\n",
       "      <td>0.0</td>\n",
       "      <td>1</td>\n",
       "      <td>INDIVIDUAL</td>\n",
       "      <td>0</td>\n",
       "      <td>0.0</td>\n",
       "      <td>0</td>\n",
       "      <td>0.0</td>\n",
       "      <td>0.0</td>\n",
       "    </tr>\n",
       "    <tr>\n",
       "      <th>4</th>\n",
       "      <td>1075358</td>\n",
       "      <td>1311748</td>\n",
       "      <td>3000</td>\n",
       "      <td>3000</td>\n",
       "      <td>3000.0</td>\n",
       "      <td>60 months</td>\n",
       "      <td>12.69%</td>\n",
       "      <td>67.79</td>\n",
       "      <td>B</td>\n",
       "      <td>B5</td>\n",
       "      <td>...</td>\n",
       "      <td>Jun-16</td>\n",
       "      <td>May-16</td>\n",
       "      <td>0.0</td>\n",
       "      <td>1</td>\n",
       "      <td>INDIVIDUAL</td>\n",
       "      <td>0</td>\n",
       "      <td>0.0</td>\n",
       "      <td>0</td>\n",
       "      <td>0.0</td>\n",
       "      <td>0.0</td>\n",
       "    </tr>\n",
       "  </tbody>\n",
       "</table>\n",
       "<p>5 rows × 57 columns</p>\n",
       "</div>"
      ],
      "text/plain": [
       "        id  member_id  loan_amnt  funded_amnt  funded_amnt_inv        term  \\\n",
       "0  1077501    1296599       5000         5000           4975.0   36 months   \n",
       "1  1077430    1314167       2500         2500           2500.0   60 months   \n",
       "2  1077175    1313524       2400         2400           2400.0   36 months   \n",
       "3  1076863    1277178      10000        10000          10000.0   36 months   \n",
       "4  1075358    1311748       3000         3000           3000.0   60 months   \n",
       "\n",
       "  int_rate  installment grade sub_grade    ...    next_pymnt_d  \\\n",
       "0   10.65%       162.87     B        B2    ...             NaN   \n",
       "1   15.27%        59.83     C        C4    ...             NaN   \n",
       "2   15.96%        84.33     C        C5    ...             NaN   \n",
       "3   13.49%       339.31     C        C1    ...             NaN   \n",
       "4   12.69%        67.79     B        B5    ...          Jun-16   \n",
       "\n",
       "  last_credit_pull_d collections_12_mths_ex_med  policy_code application_type  \\\n",
       "0             May-16                        0.0            1       INDIVIDUAL   \n",
       "1             Sep-13                        0.0            1       INDIVIDUAL   \n",
       "2             May-16                        0.0            1       INDIVIDUAL   \n",
       "3             Apr-16                        0.0            1       INDIVIDUAL   \n",
       "4             May-16                        0.0            1       INDIVIDUAL   \n",
       "\n",
       "  acc_now_delinq chargeoff_within_12_mths delinq_amnt pub_rec_bankruptcies  \\\n",
       "0              0                      0.0           0                  0.0   \n",
       "1              0                      0.0           0                  0.0   \n",
       "2              0                      0.0           0                  0.0   \n",
       "3              0                      0.0           0                  0.0   \n",
       "4              0                      0.0           0                  0.0   \n",
       "\n",
       "  tax_liens  \n",
       "0       0.0  \n",
       "1       0.0  \n",
       "2       0.0  \n",
       "3       0.0  \n",
       "4       0.0  \n",
       "\n",
       "[5 rows x 57 columns]"
      ]
     },
     "execution_count": 9,
     "metadata": {},
     "output_type": "execute_result"
    }
   ],
   "source": [
    "loan_1.head()"
   ]
  },
  {
   "cell_type": "code",
   "execution_count": 10,
   "metadata": {},
   "outputs": [
    {
     "data": {
      "text/plain": [
       "id                             0.00\n",
       "member_id                      0.00\n",
       "loan_amnt                      0.00\n",
       "funded_amnt                    0.00\n",
       "funded_amnt_inv                0.00\n",
       "term                           0.00\n",
       "int_rate                       0.00\n",
       "installment                    0.00\n",
       "grade                          0.00\n",
       "sub_grade                      0.00\n",
       "emp_title                      6.19\n",
       "emp_length                     2.71\n",
       "home_ownership                 0.00\n",
       "annual_inc                     0.00\n",
       "verification_status            0.00\n",
       "issue_d                        0.00\n",
       "loan_status                    0.00\n",
       "pymnt_plan                     0.00\n",
       "url                            0.00\n",
       "desc                          32.58\n",
       "purpose                        0.00\n",
       "title                          0.03\n",
       "zip_code                       0.00\n",
       "addr_state                     0.00\n",
       "dti                            0.00\n",
       "delinq_2yrs                    0.00\n",
       "earliest_cr_line               0.00\n",
       "inq_last_6mths                 0.00\n",
       "mths_since_last_delinq        64.66\n",
       "mths_since_last_record        92.99\n",
       "open_acc                       0.00\n",
       "pub_rec                        0.00\n",
       "revol_bal                      0.00\n",
       "revol_util                     0.13\n",
       "total_acc                      0.00\n",
       "initial_list_status            0.00\n",
       "out_prncp                      0.00\n",
       "out_prncp_inv                  0.00\n",
       "total_pymnt                    0.00\n",
       "total_pymnt_inv                0.00\n",
       "total_rec_prncp                0.00\n",
       "total_rec_int                  0.00\n",
       "total_rec_late_fee             0.00\n",
       "recoveries                     0.00\n",
       "collection_recovery_fee        0.00\n",
       "last_pymnt_d                   0.18\n",
       "last_pymnt_amnt                0.00\n",
       "next_pymnt_d                  97.13\n",
       "last_credit_pull_d             0.01\n",
       "collections_12_mths_ex_med     0.14\n",
       "policy_code                    0.00\n",
       "application_type               0.00\n",
       "acc_now_delinq                 0.00\n",
       "chargeoff_within_12_mths       0.14\n",
       "delinq_amnt                    0.00\n",
       "pub_rec_bankruptcies           1.75\n",
       "tax_liens                      0.10\n",
       "dtype: float64"
      ]
     },
     "execution_count": 10,
     "metadata": {},
     "output_type": "execute_result"
    }
   ],
   "source": [
    "round(100*(loan_1.isnull().sum()/len(loan_1.index)), 2)"
   ]
  },
  {
   "cell_type": "code",
   "execution_count": 11,
   "metadata": {},
   "outputs": [
    {
     "name": "stderr",
     "output_type": "stream",
     "text": [
      "C:\\Anaconda3\\lib\\site-packages\\pandas\\core\\indexing.py:537: SettingWithCopyWarning: \n",
      "A value is trying to be set on a copy of a slice from a DataFrame.\n",
      "Try using .loc[row_indexer,col_indexer] = value instead\n",
      "\n",
      "See the caveats in the documentation: http://pandas.pydata.org/pandas-docs/stable/indexing.html#indexing-view-versus-copy\n",
      "  self.obj[item] = s\n"
     ]
    }
   ],
   "source": [
    "loan_1.loc[loan_1['emp_title'].isnull(),'emp_title'] = 'NA'"
   ]
  },
  {
   "cell_type": "code",
   "execution_count": 12,
   "metadata": {},
   "outputs": [
    {
     "name": "stderr",
     "output_type": "stream",
     "text": [
      "C:\\Anaconda3\\lib\\site-packages\\pandas\\core\\indexing.py:537: SettingWithCopyWarning: \n",
      "A value is trying to be set on a copy of a slice from a DataFrame.\n",
      "Try using .loc[row_indexer,col_indexer] = value instead\n",
      "\n",
      "See the caveats in the documentation: http://pandas.pydata.org/pandas-docs/stable/indexing.html#indexing-view-versus-copy\n",
      "  self.obj[item] = s\n"
     ]
    }
   ],
   "source": [
    "loan_1.loc[loan_1['emp_length'].isnull(),'emp_length'] = 'NA'"
   ]
  },
  {
   "cell_type": "code",
   "execution_count": 13,
   "metadata": {},
   "outputs": [
    {
     "name": "stderr",
     "output_type": "stream",
     "text": [
      "C:\\Anaconda3\\lib\\site-packages\\pandas\\core\\indexing.py:537: SettingWithCopyWarning: \n",
      "A value is trying to be set on a copy of a slice from a DataFrame.\n",
      "Try using .loc[row_indexer,col_indexer] = value instead\n",
      "\n",
      "See the caveats in the documentation: http://pandas.pydata.org/pandas-docs/stable/indexing.html#indexing-view-versus-copy\n",
      "  self.obj[item] = s\n"
     ]
    }
   ],
   "source": [
    "loan_1.loc[loan_1['desc'].isnull(),'desc'] = 'NA'"
   ]
  },
  {
   "cell_type": "code",
   "execution_count": 14,
   "metadata": {},
   "outputs": [
    {
     "name": "stderr",
     "output_type": "stream",
     "text": [
      "C:\\Anaconda3\\lib\\site-packages\\pandas\\core\\indexing.py:537: SettingWithCopyWarning: \n",
      "A value is trying to be set on a copy of a slice from a DataFrame.\n",
      "Try using .loc[row_indexer,col_indexer] = value instead\n",
      "\n",
      "See the caveats in the documentation: http://pandas.pydata.org/pandas-docs/stable/indexing.html#indexing-view-versus-copy\n",
      "  self.obj[item] = s\n"
     ]
    }
   ],
   "source": [
    "loan_1.loc[loan_1['title'].isnull(),'title'] = 'NA'"
   ]
  },
  {
   "cell_type": "code",
   "execution_count": 15,
   "metadata": {},
   "outputs": [
    {
     "data": {
      "text/plain": [
       "id                             0.00\n",
       "member_id                      0.00\n",
       "loan_amnt                      0.00\n",
       "funded_amnt                    0.00\n",
       "funded_amnt_inv                0.00\n",
       "term                           0.00\n",
       "int_rate                       0.00\n",
       "installment                    0.00\n",
       "grade                          0.00\n",
       "sub_grade                      0.00\n",
       "emp_title                      0.00\n",
       "emp_length                     0.00\n",
       "home_ownership                 0.00\n",
       "annual_inc                     0.00\n",
       "verification_status            0.00\n",
       "issue_d                        0.00\n",
       "loan_status                    0.00\n",
       "pymnt_plan                     0.00\n",
       "url                            0.00\n",
       "desc                           0.00\n",
       "purpose                        0.00\n",
       "title                          0.00\n",
       "zip_code                       0.00\n",
       "addr_state                     0.00\n",
       "dti                            0.00\n",
       "delinq_2yrs                    0.00\n",
       "earliest_cr_line               0.00\n",
       "inq_last_6mths                 0.00\n",
       "mths_since_last_delinq        64.66\n",
       "mths_since_last_record        92.99\n",
       "open_acc                       0.00\n",
       "pub_rec                        0.00\n",
       "revol_bal                      0.00\n",
       "revol_util                     0.13\n",
       "total_acc                      0.00\n",
       "initial_list_status            0.00\n",
       "out_prncp                      0.00\n",
       "out_prncp_inv                  0.00\n",
       "total_pymnt                    0.00\n",
       "total_pymnt_inv                0.00\n",
       "total_rec_prncp                0.00\n",
       "total_rec_int                  0.00\n",
       "total_rec_late_fee             0.00\n",
       "recoveries                     0.00\n",
       "collection_recovery_fee        0.00\n",
       "last_pymnt_d                   0.18\n",
       "last_pymnt_amnt                0.00\n",
       "next_pymnt_d                  97.13\n",
       "last_credit_pull_d             0.01\n",
       "collections_12_mths_ex_med     0.14\n",
       "policy_code                    0.00\n",
       "application_type               0.00\n",
       "acc_now_delinq                 0.00\n",
       "chargeoff_within_12_mths       0.14\n",
       "delinq_amnt                    0.00\n",
       "pub_rec_bankruptcies           1.75\n",
       "tax_liens                      0.10\n",
       "dtype: float64"
      ]
     },
     "execution_count": 15,
     "metadata": {},
     "output_type": "execute_result"
    }
   ],
   "source": [
    "round(loan_1.isnull().sum()/len(loan_1.index)*100,2)"
   ]
  },
  {
   "cell_type": "code",
   "execution_count": 16,
   "metadata": {},
   "outputs": [
    {
     "name": "stdout",
     "output_type": "stream",
     "text": [
      "<class 'pandas.core.frame.DataFrame'>\n",
      "RangeIndex: 39717 entries, 0 to 39716\n",
      "Data columns (total 57 columns):\n",
      "id                            39717 non-null int64\n",
      "member_id                     39717 non-null int64\n",
      "loan_amnt                     39717 non-null int64\n",
      "funded_amnt                   39717 non-null int64\n",
      "funded_amnt_inv               39717 non-null float64\n",
      "term                          39717 non-null object\n",
      "int_rate                      39717 non-null object\n",
      "installment                   39717 non-null float64\n",
      "grade                         39717 non-null object\n",
      "sub_grade                     39717 non-null object\n",
      "emp_title                     39717 non-null object\n",
      "emp_length                    39717 non-null object\n",
      "home_ownership                39717 non-null object\n",
      "annual_inc                    39717 non-null float64\n",
      "verification_status           39717 non-null object\n",
      "issue_d                       39717 non-null object\n",
      "loan_status                   39717 non-null object\n",
      "pymnt_plan                    39717 non-null object\n",
      "url                           39717 non-null object\n",
      "desc                          39717 non-null object\n",
      "purpose                       39717 non-null object\n",
      "title                         39717 non-null object\n",
      "zip_code                      39717 non-null object\n",
      "addr_state                    39717 non-null object\n",
      "dti                           39717 non-null float64\n",
      "delinq_2yrs                   39717 non-null int64\n",
      "earliest_cr_line              39717 non-null object\n",
      "inq_last_6mths                39717 non-null int64\n",
      "mths_since_last_delinq        14035 non-null float64\n",
      "mths_since_last_record        2786 non-null float64\n",
      "open_acc                      39717 non-null int64\n",
      "pub_rec                       39717 non-null int64\n",
      "revol_bal                     39717 non-null int64\n",
      "revol_util                    39667 non-null object\n",
      "total_acc                     39717 non-null int64\n",
      "initial_list_status           39717 non-null object\n",
      "out_prncp                     39717 non-null float64\n",
      "out_prncp_inv                 39717 non-null float64\n",
      "total_pymnt                   39717 non-null float64\n",
      "total_pymnt_inv               39717 non-null float64\n",
      "total_rec_prncp               39717 non-null float64\n",
      "total_rec_int                 39717 non-null float64\n",
      "total_rec_late_fee            39717 non-null float64\n",
      "recoveries                    39717 non-null float64\n",
      "collection_recovery_fee       39717 non-null float64\n",
      "last_pymnt_d                  39646 non-null object\n",
      "last_pymnt_amnt               39717 non-null float64\n",
      "next_pymnt_d                  1140 non-null object\n",
      "last_credit_pull_d            39715 non-null object\n",
      "collections_12_mths_ex_med    39661 non-null float64\n",
      "policy_code                   39717 non-null int64\n",
      "application_type              39717 non-null object\n",
      "acc_now_delinq                39717 non-null int64\n",
      "chargeoff_within_12_mths      39661 non-null float64\n",
      "delinq_amnt                   39717 non-null int64\n",
      "pub_rec_bankruptcies          39020 non-null float64\n",
      "tax_liens                     39678 non-null float64\n",
      "dtypes: float64(20), int64(13), object(24)\n",
      "memory usage: 17.3+ MB\n"
     ]
    }
   ],
   "source": [
    "loan_1.info()"
   ]
  },
  {
   "cell_type": "markdown",
   "metadata": {},
   "source": [
    "# Generic Steps to perform Data Cleaning before predivictive Modeling"
   ]
  },
  {
   "cell_type": "code",
   "execution_count": 17,
   "metadata": {},
   "outputs": [],
   "source": [
    "loan_2 = loan_1.drop(['mths_since_last_record','tax_liens','chargeoff_within_12_mths','delinq_amnt','acc_now_delinq','application_type','policy_code','collections_12_mths_ex_med','initial_list_status'],axis=1)"
   ]
  },
  {
   "cell_type": "code",
   "execution_count": 18,
   "metadata": {},
   "outputs": [
    {
     "name": "stdout",
     "output_type": "stream",
     "text": [
      "<class 'pandas.core.frame.DataFrame'>\n",
      "RangeIndex: 39717 entries, 0 to 39716\n",
      "Data columns (total 48 columns):\n",
      "id                         39717 non-null int64\n",
      "member_id                  39717 non-null int64\n",
      "loan_amnt                  39717 non-null int64\n",
      "funded_amnt                39717 non-null int64\n",
      "funded_amnt_inv            39717 non-null float64\n",
      "term                       39717 non-null object\n",
      "int_rate                   39717 non-null object\n",
      "installment                39717 non-null float64\n",
      "grade                      39717 non-null object\n",
      "sub_grade                  39717 non-null object\n",
      "emp_title                  39717 non-null object\n",
      "emp_length                 39717 non-null object\n",
      "home_ownership             39717 non-null object\n",
      "annual_inc                 39717 non-null float64\n",
      "verification_status        39717 non-null object\n",
      "issue_d                    39717 non-null object\n",
      "loan_status                39717 non-null object\n",
      "pymnt_plan                 39717 non-null object\n",
      "url                        39717 non-null object\n",
      "desc                       39717 non-null object\n",
      "purpose                    39717 non-null object\n",
      "title                      39717 non-null object\n",
      "zip_code                   39717 non-null object\n",
      "addr_state                 39717 non-null object\n",
      "dti                        39717 non-null float64\n",
      "delinq_2yrs                39717 non-null int64\n",
      "earliest_cr_line           39717 non-null object\n",
      "inq_last_6mths             39717 non-null int64\n",
      "mths_since_last_delinq     14035 non-null float64\n",
      "open_acc                   39717 non-null int64\n",
      "pub_rec                    39717 non-null int64\n",
      "revol_bal                  39717 non-null int64\n",
      "revol_util                 39667 non-null object\n",
      "total_acc                  39717 non-null int64\n",
      "out_prncp                  39717 non-null float64\n",
      "out_prncp_inv              39717 non-null float64\n",
      "total_pymnt                39717 non-null float64\n",
      "total_pymnt_inv            39717 non-null float64\n",
      "total_rec_prncp            39717 non-null float64\n",
      "total_rec_int              39717 non-null float64\n",
      "total_rec_late_fee         39717 non-null float64\n",
      "recoveries                 39717 non-null float64\n",
      "collection_recovery_fee    39717 non-null float64\n",
      "last_pymnt_d               39646 non-null object\n",
      "last_pymnt_amnt            39717 non-null float64\n",
      "next_pymnt_d               1140 non-null object\n",
      "last_credit_pull_d         39715 non-null object\n",
      "pub_rec_bankruptcies       39020 non-null float64\n",
      "dtypes: float64(16), int64(10), object(22)\n",
      "memory usage: 14.5+ MB\n"
     ]
    }
   ],
   "source": [
    "loan_2.info()"
   ]
  },
  {
   "cell_type": "code",
   "execution_count": 19,
   "metadata": {},
   "outputs": [],
   "source": [
    "# Loan Set excluding the Current Status\n",
    "loan_3 = loan_2[loan_2.loan_status != \"Current\"]"
   ]
  },
  {
   "cell_type": "code",
   "execution_count": 20,
   "metadata": {},
   "outputs": [],
   "source": [
    "#dropping the next_payment column which is irrevelant for furthere analysis\n",
    "loan_3 = loan_3.drop('next_pymnt_d',inplace=False,axis=1)"
   ]
  },
  {
   "cell_type": "code",
   "execution_count": 21,
   "metadata": {},
   "outputs": [
    {
     "data": {
      "text/html": [
       "<div>\n",
       "<style scoped>\n",
       "    .dataframe tbody tr th:only-of-type {\n",
       "        vertical-align: middle;\n",
       "    }\n",
       "\n",
       "    .dataframe tbody tr th {\n",
       "        vertical-align: top;\n",
       "    }\n",
       "\n",
       "    .dataframe thead th {\n",
       "        text-align: right;\n",
       "    }\n",
       "</style>\n",
       "<table border=\"1\" class=\"dataframe\">\n",
       "  <thead>\n",
       "    <tr style=\"text-align: right;\">\n",
       "      <th></th>\n",
       "      <th>id</th>\n",
       "      <th>member_id</th>\n",
       "      <th>loan_amnt</th>\n",
       "      <th>funded_amnt</th>\n",
       "      <th>funded_amnt_inv</th>\n",
       "      <th>term</th>\n",
       "      <th>int_rate</th>\n",
       "      <th>installment</th>\n",
       "      <th>grade</th>\n",
       "      <th>sub_grade</th>\n",
       "      <th>...</th>\n",
       "      <th>total_pymnt_inv</th>\n",
       "      <th>total_rec_prncp</th>\n",
       "      <th>total_rec_int</th>\n",
       "      <th>total_rec_late_fee</th>\n",
       "      <th>recoveries</th>\n",
       "      <th>collection_recovery_fee</th>\n",
       "      <th>last_pymnt_d</th>\n",
       "      <th>last_pymnt_amnt</th>\n",
       "      <th>last_credit_pull_d</th>\n",
       "      <th>pub_rec_bankruptcies</th>\n",
       "    </tr>\n",
       "  </thead>\n",
       "  <tbody>\n",
       "    <tr>\n",
       "      <th>0</th>\n",
       "      <td>1077501</td>\n",
       "      <td>1296599</td>\n",
       "      <td>5000</td>\n",
       "      <td>5000</td>\n",
       "      <td>4975.0</td>\n",
       "      <td>36 months</td>\n",
       "      <td>10.65%</td>\n",
       "      <td>162.87</td>\n",
       "      <td>B</td>\n",
       "      <td>B2</td>\n",
       "      <td>...</td>\n",
       "      <td>5833.84</td>\n",
       "      <td>5000.00</td>\n",
       "      <td>863.16</td>\n",
       "      <td>0.00</td>\n",
       "      <td>0.00</td>\n",
       "      <td>0.00</td>\n",
       "      <td>Jan-15</td>\n",
       "      <td>171.62</td>\n",
       "      <td>May-16</td>\n",
       "      <td>0.0</td>\n",
       "    </tr>\n",
       "    <tr>\n",
       "      <th>1</th>\n",
       "      <td>1077430</td>\n",
       "      <td>1314167</td>\n",
       "      <td>2500</td>\n",
       "      <td>2500</td>\n",
       "      <td>2500.0</td>\n",
       "      <td>60 months</td>\n",
       "      <td>15.27%</td>\n",
       "      <td>59.83</td>\n",
       "      <td>C</td>\n",
       "      <td>C4</td>\n",
       "      <td>...</td>\n",
       "      <td>1008.71</td>\n",
       "      <td>456.46</td>\n",
       "      <td>435.17</td>\n",
       "      <td>0.00</td>\n",
       "      <td>117.08</td>\n",
       "      <td>1.11</td>\n",
       "      <td>Apr-13</td>\n",
       "      <td>119.66</td>\n",
       "      <td>Sep-13</td>\n",
       "      <td>0.0</td>\n",
       "    </tr>\n",
       "    <tr>\n",
       "      <th>2</th>\n",
       "      <td>1077175</td>\n",
       "      <td>1313524</td>\n",
       "      <td>2400</td>\n",
       "      <td>2400</td>\n",
       "      <td>2400.0</td>\n",
       "      <td>36 months</td>\n",
       "      <td>15.96%</td>\n",
       "      <td>84.33</td>\n",
       "      <td>C</td>\n",
       "      <td>C5</td>\n",
       "      <td>...</td>\n",
       "      <td>3005.67</td>\n",
       "      <td>2400.00</td>\n",
       "      <td>605.67</td>\n",
       "      <td>0.00</td>\n",
       "      <td>0.00</td>\n",
       "      <td>0.00</td>\n",
       "      <td>Jun-14</td>\n",
       "      <td>649.91</td>\n",
       "      <td>May-16</td>\n",
       "      <td>0.0</td>\n",
       "    </tr>\n",
       "    <tr>\n",
       "      <th>3</th>\n",
       "      <td>1076863</td>\n",
       "      <td>1277178</td>\n",
       "      <td>10000</td>\n",
       "      <td>10000</td>\n",
       "      <td>10000.0</td>\n",
       "      <td>36 months</td>\n",
       "      <td>13.49%</td>\n",
       "      <td>339.31</td>\n",
       "      <td>C</td>\n",
       "      <td>C1</td>\n",
       "      <td>...</td>\n",
       "      <td>12231.89</td>\n",
       "      <td>10000.00</td>\n",
       "      <td>2214.92</td>\n",
       "      <td>16.97</td>\n",
       "      <td>0.00</td>\n",
       "      <td>0.00</td>\n",
       "      <td>Jan-15</td>\n",
       "      <td>357.48</td>\n",
       "      <td>Apr-16</td>\n",
       "      <td>0.0</td>\n",
       "    </tr>\n",
       "    <tr>\n",
       "      <th>5</th>\n",
       "      <td>1075269</td>\n",
       "      <td>1311441</td>\n",
       "      <td>5000</td>\n",
       "      <td>5000</td>\n",
       "      <td>5000.0</td>\n",
       "      <td>36 months</td>\n",
       "      <td>7.90%</td>\n",
       "      <td>156.46</td>\n",
       "      <td>A</td>\n",
       "      <td>A4</td>\n",
       "      <td>...</td>\n",
       "      <td>5632.21</td>\n",
       "      <td>5000.00</td>\n",
       "      <td>632.21</td>\n",
       "      <td>0.00</td>\n",
       "      <td>0.00</td>\n",
       "      <td>0.00</td>\n",
       "      <td>Jan-15</td>\n",
       "      <td>161.03</td>\n",
       "      <td>Jan-16</td>\n",
       "      <td>0.0</td>\n",
       "    </tr>\n",
       "  </tbody>\n",
       "</table>\n",
       "<p>5 rows × 47 columns</p>\n",
       "</div>"
      ],
      "text/plain": [
       "        id  member_id  loan_amnt  funded_amnt  funded_amnt_inv        term  \\\n",
       "0  1077501    1296599       5000         5000           4975.0   36 months   \n",
       "1  1077430    1314167       2500         2500           2500.0   60 months   \n",
       "2  1077175    1313524       2400         2400           2400.0   36 months   \n",
       "3  1076863    1277178      10000        10000          10000.0   36 months   \n",
       "5  1075269    1311441       5000         5000           5000.0   36 months   \n",
       "\n",
       "  int_rate  installment grade sub_grade         ...          total_pymnt_inv  \\\n",
       "0   10.65%       162.87     B        B2         ...                  5833.84   \n",
       "1   15.27%        59.83     C        C4         ...                  1008.71   \n",
       "2   15.96%        84.33     C        C5         ...                  3005.67   \n",
       "3   13.49%       339.31     C        C1         ...                 12231.89   \n",
       "5    7.90%       156.46     A        A4         ...                  5632.21   \n",
       "\n",
       "  total_rec_prncp total_rec_int  total_rec_late_fee recoveries  \\\n",
       "0         5000.00        863.16                0.00       0.00   \n",
       "1          456.46        435.17                0.00     117.08   \n",
       "2         2400.00        605.67                0.00       0.00   \n",
       "3        10000.00       2214.92               16.97       0.00   \n",
       "5         5000.00        632.21                0.00       0.00   \n",
       "\n",
       "  collection_recovery_fee last_pymnt_d last_pymnt_amnt last_credit_pull_d  \\\n",
       "0                    0.00       Jan-15          171.62             May-16   \n",
       "1                    1.11       Apr-13          119.66             Sep-13   \n",
       "2                    0.00       Jun-14          649.91             May-16   \n",
       "3                    0.00       Jan-15          357.48             Apr-16   \n",
       "5                    0.00       Jan-15          161.03             Jan-16   \n",
       "\n",
       "  pub_rec_bankruptcies  \n",
       "0                  0.0  \n",
       "1                  0.0  \n",
       "2                  0.0  \n",
       "3                  0.0  \n",
       "5                  0.0  \n",
       "\n",
       "[5 rows x 47 columns]"
      ]
     },
     "execution_count": 21,
     "metadata": {},
     "output_type": "execute_result"
    }
   ],
   "source": [
    "loan_3.head()"
   ]
  },
  {
   "cell_type": "code",
   "execution_count": 22,
   "metadata": {},
   "outputs": [],
   "source": [
    "loan_3 = loan_3[~loan_3['revol_util'].isnull()]"
   ]
  },
  {
   "cell_type": "code",
   "execution_count": 23,
   "metadata": {},
   "outputs": [
    {
     "name": "stdout",
     "output_type": "stream",
     "text": [
      "0    83.70%\n",
      "1     9.40%\n",
      "2    98.50%\n",
      "3       21%\n",
      "5    28.30%\n",
      "Name: revol_util, dtype: object\n"
     ]
    }
   ],
   "source": [
    "#Printing the amount of credit the borrower is using relative to all available revolving credit.\n",
    "print((loan_3['revol_util']).head(5))"
   ]
  },
  {
   "cell_type": "code",
   "execution_count": 24,
   "metadata": {},
   "outputs": [],
   "source": [
    "#Assigning the null values of public bankrupties to 0\n",
    "loan_3.loc[loan_3['pub_rec_bankruptcies'].isnull(),'pub_rec_bankruptcies']=0"
   ]
  },
  {
   "cell_type": "code",
   "execution_count": 28,
   "metadata": {},
   "outputs": [],
   "source": [
    "#imputing months since last delq as 0 with ref to delinq_2yrs\n",
    "loan_3.loc[loan_3['mths_since_last_delinq'].isnull(),'mths_since_last_delinq']=0 "
   ]
  },
  {
   "cell_type": "code",
   "execution_count": 25,
   "metadata": {},
   "outputs": [
    {
     "data": {
      "text/plain": [
       "id                           int64\n",
       "member_id                    int64\n",
       "loan_amnt                    int64\n",
       "funded_amnt                  int64\n",
       "funded_amnt_inv            float64\n",
       "term                        object\n",
       "int_rate                   float64\n",
       "installment                float64\n",
       "grade                       object\n",
       "sub_grade                   object\n",
       "emp_title                   object\n",
       "emp_length                  object\n",
       "home_ownership              object\n",
       "annual_inc                 float64\n",
       "verification_status         object\n",
       "issue_d                     object\n",
       "loan_status                 object\n",
       "pymnt_plan                  object\n",
       "url                         object\n",
       "desc                        object\n",
       "purpose                     object\n",
       "title                       object\n",
       "zip_code                    object\n",
       "addr_state                  object\n",
       "dti                        float64\n",
       "delinq_2yrs                  int64\n",
       "earliest_cr_line            object\n",
       "inq_last_6mths               int64\n",
       "mths_since_last_delinq     float64\n",
       "open_acc                     int64\n",
       "pub_rec                      int64\n",
       "revol_bal                    int64\n",
       "revol_util                 float64\n",
       "total_acc                    int64\n",
       "out_prncp                  float64\n",
       "out_prncp_inv              float64\n",
       "total_pymnt                float64\n",
       "total_pymnt_inv            float64\n",
       "total_rec_prncp            float64\n",
       "total_rec_int              float64\n",
       "total_rec_late_fee         float64\n",
       "recoveries                 float64\n",
       "collection_recovery_fee    float64\n",
       "last_pymnt_d                object\n",
       "last_pymnt_amnt            float64\n",
       "last_credit_pull_d          object\n",
       "pub_rec_bankruptcies       float64\n",
       "dtype: object"
      ]
     },
     "execution_count": 25,
     "metadata": {},
     "output_type": "execute_result"
    }
   ],
   "source": [
    "#loan_3['id'] = loan_3['id'].astype(str) #Converting id to string\n",
    "#loan_3['member_id'] = loan_3['member_id'].astype(str) #converting id to string\n",
    "loan_3[\"int_rate\"] = loan_3[\"int_rate\"].str.rstrip('%') #stripping % sign from interest rate\n",
    "loan_3[\"int_rate\"] = loan_3[\"int_rate\"].astype(float) #Converting Interest Rate to float from String\n",
    "loan_3[\"revol_util\"] = loan_3[\"revol_util\"].str.rstrip('%') #stripping % sign from revolving utilization\n",
    "loan_3[\"revol_util\"] = loan_3[\"revol_util\"].astype(float) #Converting revolving utilization to float from String\n",
    "loan_3.dtypes"
   ]
  },
  {
   "cell_type": "code",
   "execution_count": 26,
   "metadata": {},
   "outputs": [],
   "source": [
    "loan_3[\"emp_length\"] = loan_3[\"emp_length\"].astype(str) #Converting emp_length column datatype to String\n",
    "loan_3[\"annual_inc\"] = loan_3[\"annual_inc\"].astype(float) #Converting annual income column to float datatype from string"
   ]
  },
  {
   "cell_type": "code",
   "execution_count": 27,
   "metadata": {},
   "outputs": [],
   "source": [
    "#Removing Months word from term and converting it to integer datatype\n",
    "loan_3[\"term\"] = loan_3[\"term\"].str.rstrip('months')\n",
    "loan_3[\"term\"] = loan_3[\"term\"].astype(int)"
   ]
  },
  {
   "cell_type": "code",
   "execution_count": 28,
   "metadata": {},
   "outputs": [],
   "source": [
    "loan_4 = loan_3.copy()"
   ]
  },
  {
   "cell_type": "code",
   "execution_count": 29,
   "metadata": {},
   "outputs": [],
   "source": [
    "# Converting to date in standard pormat\n",
    "loan_4['last_pymnt_d'] = pd.to_datetime(loan_4['last_pymnt_d'],format='%b-%y')\n",
    "loan_4['issue_d'] = pd.to_datetime(loan_4['issue_d'],format='%b-%y')\n",
    "loan_4['earliest_cr_line'] = pd.to_datetime(loan_4['earliest_cr_line'],format='%b-%y')\n",
    "loan_4['last_credit_pull_d'] = pd.to_datetime(loan_4['last_credit_pull_d'],format='%b-%y')"
   ]
  },
  {
   "cell_type": "code",
   "execution_count": 30,
   "metadata": {},
   "outputs": [
    {
     "data": {
      "text/plain": [
       "0   2011-12-01\n",
       "1   2011-12-01\n",
       "2   2011-12-01\n",
       "3   2011-12-01\n",
       "5   2011-12-01\n",
       "Name: issue_d, dtype: datetime64[ns]"
      ]
     },
     "execution_count": 30,
     "metadata": {},
     "output_type": "execute_result"
    }
   ],
   "source": [
    "loan_4['issue_d'].head()"
   ]
  },
  {
   "cell_type": "code",
   "execution_count": 31,
   "metadata": {},
   "outputs": [],
   "source": [
    "loan_4['year'] =loan_4['issue_d'].dt.year"
   ]
  },
  {
   "cell_type": "code",
   "execution_count": 32,
   "metadata": {},
   "outputs": [],
   "source": [
    "# creating Slabs based on Interest Rates for Loans\n",
    "def InterestRateSlabs(IR):\n",
    "    'divide Interest Rates into 3 categories'\n",
    "    if IR <= 10:\n",
    "        return \"Low\"\n",
    "    elif 10 < IR <= 18:\n",
    "        return \"Medium\"\n",
    "    elif IR > 18:\n",
    "        return \"High\"\n",
    "    \n",
    "loan_4[\"Interest_Rates_Slab\"] = loan_4.int_rate.apply(lambda IR: InterestRateSlabs(IR))"
   ]
  },
  {
   "cell_type": "code",
   "execution_count": 33,
   "metadata": {},
   "outputs": [],
   "source": [
    "# creating slabs based on Employee Experience\n",
    "def Slabs(Expr:str):\n",
    "    'divide Employee Experience into 4 categories'\n",
    "    if Expr in (\"< 1 year\"):\n",
    "        return \"Trainee\"\n",
    "    elif Expr in (\"1 year\", \"2 years\", \"3 years\", \"4 years\"):\n",
    "        return \"Junior\"\n",
    "    elif Expr in (\"5 years\", \"6 years\", \"7 years\", \"8 years\"):\n",
    "        return \"Mid-Level\"\n",
    "    elif Expr in (\"9 years\", \"10+ years\"):\n",
    "        return \"Senior\"\n",
    "    else:\n",
    "        return \"NA\"\n",
    "    \n",
    "loan_4[\"Emp_Exp_Slab\"] = loan_4.emp_length.apply(lambda Expr: Slabs(Expr))"
   ]
  },
  {
   "cell_type": "code",
   "execution_count": 34,
   "metadata": {},
   "outputs": [
    {
     "name": "stdout",
     "output_type": "stream",
     "text": [
      "Emp_Exp_Slab  loan_status\n",
      "Junior        Charged Off     1581\n",
      "              Fully Paid     10048\n",
      "Mid-Level     Charged Off     1227\n",
      "              Fully Paid      7269\n",
      "NA            Charged Off      227\n",
      "              Fully Paid       803\n",
      "Senior        Charged Off     1488\n",
      "              Fully Paid      8225\n",
      "Trainee       Charged Off     1088\n",
      "              Fully Paid      6571\n",
      "Name: id, dtype: int64\n"
     ]
    },
    {
     "data": {
      "text/plain": [
       "<matplotlib.axes._subplots.AxesSubplot at 0x1ad1a5caf60>"
      ]
     },
     "execution_count": 34,
     "metadata": {},
     "output_type": "execute_result"
    },
    {
     "data": {
      "image/png": "[encoded data removed]",
      "text/plain": [
       "<matplotlib.figure.Figure at 0x1ad1a5ca828>"
      ]
     },
     "metadata": {},
     "output_type": "display_data"
    }
   ],
   "source": [
    "print(loan_4.groupby(['Emp_Exp_Slab','loan_status'])['id'].agg('count'))\n",
    "sns.countplot(x=\"Emp_Exp_Slab\", hue=\"loan_status\", data = loan_4,palette=\"pastel\")"
   ]
  },
  {
   "cell_type": "code",
   "execution_count": 35,
   "metadata": {},
   "outputs": [
    {
     "name": "stdout",
     "output_type": "stream",
     "text": [
      "Interest_Rates_Slab  loan_status\n",
      "High                 Charged Off      731\n",
      "                     Fully Paid      1502\n",
      "Low                  Charged Off      830\n",
      "                     Fully Paid     11486\n",
      "Medium               Charged Off     4050\n",
      "                     Fully Paid     19928\n",
      "Name: id, dtype: int64\n"
     ]
    },
    {
     "data": {
      "text/plain": [
       "<matplotlib.axes._subplots.AxesSubplot at 0x1ad1a49edd8>"
      ]
     },
     "execution_count": 35,
     "metadata": {},
     "output_type": "execute_result"
    },
    {
     "data": {
      "image/png": "[encoded data removed]",
      "text/plain": [
       "<matplotlib.figure.Figure at 0x1ad153c6f60>"
      ]
     },
     "metadata": {},
     "output_type": "display_data"
    }
   ],
   "source": [
    "print(loan_4.groupby(['Interest_Rates_Slab','loan_status'])['id'].agg('count'))\n",
    "sns.countplot(x=\"Interest_Rates_Slab\", hue=\"loan_status\", data = loan_4,palette=\"pastel\")"
   ]
  },
  {
   "cell_type": "code",
   "execution_count": 36,
   "metadata": {},
   "outputs": [
    {
     "name": "stdout",
     "output_type": "stream",
     "text": [
      "home_ownership  loan_status\n",
      "MORTGAGE        Charged Off     2323\n",
      "                Fully Paid     14687\n",
      "NONE            Fully Paid         3\n",
      "OTHER           Charged Off       18\n",
      "                Fully Paid        78\n",
      "OWN             Charged Off      441\n",
      "                Fully Paid      2529\n",
      "RENT            Charged Off     2829\n",
      "                Fully Paid     15619\n",
      "Name: id, dtype: int64\n"
     ]
    },
    {
     "data": {
      "text/plain": [
       "<matplotlib.axes._subplots.AxesSubplot at 0x1ad1910fa90>"
      ]
     },
     "execution_count": 36,
     "metadata": {},
     "output_type": "execute_result"
    },
    {
     "data": {
      "image/png": "[encoded data removed]",
      "text/plain": [
       "<matplotlib.figure.Figure at 0x1ad19115978>"
      ]
     },
     "metadata": {},
     "output_type": "display_data"
    }
   ],
   "source": [
    "print(loan_4.groupby(['home_ownership','loan_status'])['id'].agg('count'))\n",
    "sns.countplot(x=\"home_ownership\", hue=\"loan_status\", data = loan_4,palette=\"pastel\")"
   ]
  },
  {
   "cell_type": "code",
   "execution_count": 37,
   "metadata": {},
   "outputs": [
    {
     "name": "stdout",
     "output_type": "stream",
     "text": [
      "purpose             loan_status\n",
      "car                 Charged Off      159\n",
      "                    Fully Paid      1338\n",
      "credit_card         Charged Off      541\n",
      "                    Fully Paid      4484\n",
      "debt_consolidation  Charged Off     2762\n",
      "                    Fully Paid     15281\n",
      "educational         Charged Off       56\n",
      "                    Fully Paid       266\n",
      "home_improvement    Charged Off      344\n",
      "                    Fully Paid      2526\n",
      "house               Charged Off       59\n",
      "                    Fully Paid       308\n",
      "major_purchase      Charged Off      221\n",
      "                    Fully Paid      1923\n",
      "medical             Charged Off      105\n",
      "                    Fully Paid       574\n",
      "moving              Charged Off       92\n",
      "                    Fully Paid       482\n",
      "other               Charged Off      629\n",
      "                    Fully Paid      3223\n",
      "renewable_energy    Charged Off       19\n",
      "                    Fully Paid        83\n",
      "small_business      Charged Off      475\n",
      "                    Fully Paid      1278\n",
      "vacation            Charged Off       53\n",
      "                    Fully Paid       321\n",
      "wedding             Charged Off       96\n",
      "                    Fully Paid       829\n",
      "Name: id, dtype: int64\n"
     ]
    },
    {
     "data": {
      "text/plain": [
       "<matplotlib.axes._subplots.AxesSubplot at 0x1ad153c6d30>"
      ]
     },
     "execution_count": 37,
     "metadata": {},
     "output_type": "execute_result"
    },
    {
     "data": {
      "image/png": "[encoded data removed]",
      "text/plain": [
       "<matplotlib.figure.Figure at 0x1ad190d04e0>"
      ]
     },
     "metadata": {},
     "output_type": "display_data"
    }
   ],
   "source": [
    "print(loan_4.groupby(['purpose','loan_status'])['id'].agg('count'))\n",
    "plt.figure(figsize=(25,12))\n",
    "sns.countplot(x=\"purpose\", hue=\"loan_status\", data = loan_4,palette=\"pastel\")"
   ]
  },
  {
   "cell_type": "code",
   "execution_count": 38,
   "metadata": {},
   "outputs": [],
   "source": [
    "not_good_loan = [\"Charged Off\"]\n",
    "\n",
    "loan['loan_condition'] = np.nan\n",
    "\n",
    "def loan_condition(status):\n",
    "    if status in not_good_loan:\n",
    "        return 'Not_Good_Loan'\n",
    "    else:\n",
    "        return 'Good_Loan'\n",
    "    \n",
    "    \n",
    "loan_4['loan_condition'] = loan_4['loan_status'].apply(loan_condition)"
   ]
  },
  {
   "cell_type": "code",
   "execution_count": 39,
   "metadata": {},
   "outputs": [
    {
     "data": {
      "text/plain": [
       "Index(['id', 'member_id', 'loan_amnt', 'funded_amnt', 'funded_amnt_inv',\n",
       "       'term', 'int_rate', 'installment', 'grade', 'sub_grade', 'emp_title',\n",
       "       'emp_length', 'home_ownership', 'annual_inc', 'verification_status',\n",
       "       'issue_d', 'loan_status', 'pymnt_plan', 'url', 'desc', 'purpose',\n",
       "       'title', 'zip_code', 'addr_state', 'dti', 'delinq_2yrs',\n",
       "       'earliest_cr_line', 'inq_last_6mths', 'mths_since_last_delinq',\n",
       "       'open_acc', 'pub_rec', 'revol_bal', 'revol_util', 'total_acc',\n",
       "       'out_prncp', 'out_prncp_inv', 'total_pymnt', 'total_pymnt_inv',\n",
       "       'total_rec_prncp', 'total_rec_int', 'total_rec_late_fee', 'recoveries',\n",
       "       'collection_recovery_fee', 'last_pymnt_d', 'last_pymnt_amnt',\n",
       "       'last_credit_pull_d', 'pub_rec_bankruptcies', 'year',\n",
       "       'Interest_Rates_Slab', 'Emp_Exp_Slab', 'loan_condition'],\n",
       "      dtype='object')"
      ]
     },
     "execution_count": 39,
     "metadata": {},
     "output_type": "execute_result"
    }
   ],
   "source": [
    "loan_4.columns"
   ]
  },
  {
   "cell_type": "code",
   "execution_count": 40,
   "metadata": {},
   "outputs": [
    {
     "data": {
      "text/html": [
       "<div>\n",
       "<style scoped>\n",
       "    .dataframe tbody tr th:only-of-type {\n",
       "        vertical-align: middle;\n",
       "    }\n",
       "\n",
       "    .dataframe tbody tr th {\n",
       "        vertical-align: top;\n",
       "    }\n",
       "\n",
       "    .dataframe thead th {\n",
       "        text-align: right;\n",
       "    }\n",
       "</style>\n",
       "<table border=\"1\" class=\"dataframe\">\n",
       "  <thead>\n",
       "    <tr style=\"text-align: right;\">\n",
       "      <th></th>\n",
       "      <th>id</th>\n",
       "      <th>member_id</th>\n",
       "      <th>loan_amnt</th>\n",
       "      <th>funded_amnt</th>\n",
       "      <th>funded_amnt_inv</th>\n",
       "      <th>term</th>\n",
       "      <th>int_rate</th>\n",
       "      <th>installment</th>\n",
       "      <th>grade</th>\n",
       "      <th>sub_grade</th>\n",
       "      <th>...</th>\n",
       "      <th>recoveries</th>\n",
       "      <th>collection_recovery_fee</th>\n",
       "      <th>last_pymnt_d</th>\n",
       "      <th>last_pymnt_amnt</th>\n",
       "      <th>last_credit_pull_d</th>\n",
       "      <th>pub_rec_bankruptcies</th>\n",
       "      <th>year</th>\n",
       "      <th>Interest_Rates_Slab</th>\n",
       "      <th>Emp_Exp_Slab</th>\n",
       "      <th>loan_condition</th>\n",
       "    </tr>\n",
       "  </thead>\n",
       "  <tbody>\n",
       "    <tr>\n",
       "      <th>0</th>\n",
       "      <td>1077501</td>\n",
       "      <td>1296599</td>\n",
       "      <td>5000</td>\n",
       "      <td>5000</td>\n",
       "      <td>4975.0</td>\n",
       "      <td>36</td>\n",
       "      <td>10.65</td>\n",
       "      <td>162.87</td>\n",
       "      <td>B</td>\n",
       "      <td>B2</td>\n",
       "      <td>...</td>\n",
       "      <td>0.00</td>\n",
       "      <td>0.00</td>\n",
       "      <td>2015-01-01</td>\n",
       "      <td>171.62</td>\n",
       "      <td>2016-05-01</td>\n",
       "      <td>0.0</td>\n",
       "      <td>2011</td>\n",
       "      <td>Medium</td>\n",
       "      <td>Senior</td>\n",
       "      <td>Good_Loan</td>\n",
       "    </tr>\n",
       "    <tr>\n",
       "      <th>1</th>\n",
       "      <td>1077430</td>\n",
       "      <td>1314167</td>\n",
       "      <td>2500</td>\n",
       "      <td>2500</td>\n",
       "      <td>2500.0</td>\n",
       "      <td>60</td>\n",
       "      <td>15.27</td>\n",
       "      <td>59.83</td>\n",
       "      <td>C</td>\n",
       "      <td>C4</td>\n",
       "      <td>...</td>\n",
       "      <td>117.08</td>\n",
       "      <td>1.11</td>\n",
       "      <td>2013-04-01</td>\n",
       "      <td>119.66</td>\n",
       "      <td>2013-09-01</td>\n",
       "      <td>0.0</td>\n",
       "      <td>2011</td>\n",
       "      <td>Medium</td>\n",
       "      <td>Trainee</td>\n",
       "      <td>Not_Good_Loan</td>\n",
       "    </tr>\n",
       "    <tr>\n",
       "      <th>2</th>\n",
       "      <td>1077175</td>\n",
       "      <td>1313524</td>\n",
       "      <td>2400</td>\n",
       "      <td>2400</td>\n",
       "      <td>2400.0</td>\n",
       "      <td>36</td>\n",
       "      <td>15.96</td>\n",
       "      <td>84.33</td>\n",
       "      <td>C</td>\n",
       "      <td>C5</td>\n",
       "      <td>...</td>\n",
       "      <td>0.00</td>\n",
       "      <td>0.00</td>\n",
       "      <td>2014-06-01</td>\n",
       "      <td>649.91</td>\n",
       "      <td>2016-05-01</td>\n",
       "      <td>0.0</td>\n",
       "      <td>2011</td>\n",
       "      <td>Medium</td>\n",
       "      <td>Senior</td>\n",
       "      <td>Good_Loan</td>\n",
       "    </tr>\n",
       "    <tr>\n",
       "      <th>3</th>\n",
       "      <td>1076863</td>\n",
       "      <td>1277178</td>\n",
       "      <td>10000</td>\n",
       "      <td>10000</td>\n",
       "      <td>10000.0</td>\n",
       "      <td>36</td>\n",
       "      <td>13.49</td>\n",
       "      <td>339.31</td>\n",
       "      <td>C</td>\n",
       "      <td>C1</td>\n",
       "      <td>...</td>\n",
       "      <td>0.00</td>\n",
       "      <td>0.00</td>\n",
       "      <td>2015-01-01</td>\n",
       "      <td>357.48</td>\n",
       "      <td>2016-04-01</td>\n",
       "      <td>0.0</td>\n",
       "      <td>2011</td>\n",
       "      <td>Medium</td>\n",
       "      <td>Senior</td>\n",
       "      <td>Good_Loan</td>\n",
       "    </tr>\n",
       "    <tr>\n",
       "      <th>5</th>\n",
       "      <td>1075269</td>\n",
       "      <td>1311441</td>\n",
       "      <td>5000</td>\n",
       "      <td>5000</td>\n",
       "      <td>5000.0</td>\n",
       "      <td>36</td>\n",
       "      <td>7.90</td>\n",
       "      <td>156.46</td>\n",
       "      <td>A</td>\n",
       "      <td>A4</td>\n",
       "      <td>...</td>\n",
       "      <td>0.00</td>\n",
       "      <td>0.00</td>\n",
       "      <td>2015-01-01</td>\n",
       "      <td>161.03</td>\n",
       "      <td>2016-01-01</td>\n",
       "      <td>0.0</td>\n",
       "      <td>2011</td>\n",
       "      <td>Low</td>\n",
       "      <td>Junior</td>\n",
       "      <td>Good_Loan</td>\n",
       "    </tr>\n",
       "  </tbody>\n",
       "</table>\n",
       "<p>5 rows × 51 columns</p>\n",
       "</div>"
      ],
      "text/plain": [
       "        id  member_id  loan_amnt  funded_amnt  funded_amnt_inv  term  \\\n",
       "0  1077501    1296599       5000         5000           4975.0    36   \n",
       "1  1077430    1314167       2500         2500           2500.0    60   \n",
       "2  1077175    1313524       2400         2400           2400.0    36   \n",
       "3  1076863    1277178      10000        10000          10000.0    36   \n",
       "5  1075269    1311441       5000         5000           5000.0    36   \n",
       "\n",
       "   int_rate  installment grade sub_grade      ...       recoveries  \\\n",
       "0     10.65       162.87     B        B2      ...             0.00   \n",
       "1     15.27        59.83     C        C4      ...           117.08   \n",
       "2     15.96        84.33     C        C5      ...             0.00   \n",
       "3     13.49       339.31     C        C1      ...             0.00   \n",
       "5      7.90       156.46     A        A4      ...             0.00   \n",
       "\n",
       "  collection_recovery_fee last_pymnt_d  last_pymnt_amnt last_credit_pull_d  \\\n",
       "0                    0.00   2015-01-01           171.62         2016-05-01   \n",
       "1                    1.11   2013-04-01           119.66         2013-09-01   \n",
       "2                    0.00   2014-06-01           649.91         2016-05-01   \n",
       "3                    0.00   2015-01-01           357.48         2016-04-01   \n",
       "5                    0.00   2015-01-01           161.03         2016-01-01   \n",
       "\n",
       "  pub_rec_bankruptcies  year Interest_Rates_Slab Emp_Exp_Slab loan_condition  \n",
       "0                  0.0  2011              Medium       Senior      Good_Loan  \n",
       "1                  0.0  2011              Medium      Trainee  Not_Good_Loan  \n",
       "2                  0.0  2011              Medium       Senior      Good_Loan  \n",
       "3                  0.0  2011              Medium       Senior      Good_Loan  \n",
       "5                  0.0  2011                 Low       Junior      Good_Loan  \n",
       "\n",
       "[5 rows x 51 columns]"
      ]
     },
     "execution_count": 40,
     "metadata": {},
     "output_type": "execute_result"
    }
   ],
   "source": [
    "loan_4.head()"
   ]
  },
  {
   "cell_type": "code",
   "execution_count": 41,
   "metadata": {},
   "outputs": [],
   "source": [
    "loan_amount = loan_4[\"loan_amnt\"].values"
   ]
  },
  {
   "cell_type": "code",
   "execution_count": 42,
   "metadata": {},
   "outputs": [],
   "source": [
    "funded_amount = loan_4[\"funded_amnt\"].values"
   ]
  },
  {
   "cell_type": "code",
   "execution_count": 43,
   "metadata": {},
   "outputs": [],
   "source": [
    "year = loan_4[\"year\"].values"
   ]
  },
  {
   "cell_type": "code",
   "execution_count": 44,
   "metadata": {},
   "outputs": [
    {
     "data": {
      "text/plain": [
       "Text(0.5,1,'Amount Funded by the Lender')"
      ]
     },
     "execution_count": 44,
     "metadata": {},
     "output_type": "execute_result"
    },
    {
     "data": {
      "image/png": "[encoded data removed]",
      "text/plain": [
       "<matplotlib.figure.Figure at 0x1ad19444d68>"
      ]
     },
     "metadata": {},
     "output_type": "display_data"
    }
   ],
   "source": [
    "fig, ax = plt.subplots(1, 2, figsize=(17,6))\n",
    "\n",
    "sns.distplot(loan_amount, ax=ax[0], color=\"RED\")\n",
    "ax[0].set_title(\"Loan Applied by the Borrower\", fontsize=15)\n",
    "sns.distplot(funded_amount, ax=ax[1], color=\"BLUE\")\n",
    "ax[1].set_title(\"Amount Funded by the Lender\", fontsize=15)"
   ]
  },
  {
   "cell_type": "code",
   "execution_count": 45,
   "metadata": {},
   "outputs": [
    {
     "data": {
      "text/plain": [
       "Text(0,0.5,'Average loan amount issued')"
      ]
     },
     "execution_count": 45,
     "metadata": {},
     "output_type": "execute_result"
    },
    {
     "data": {
      "image/png": "[encoded data removed]",
      "text/plain": [
       "<matplotlib.figure.Figure at 0x1ad191c6780>"
      ]
     },
     "metadata": {},
     "output_type": "display_data"
    }
   ],
   "source": [
    "plt.figure(figsize=(15,10))\n",
    "sns.barplot('year', 'loan_amnt', data=loan_4, palette='tab10')\n",
    "plt.title('Loan Issuance', fontsize=15)\n",
    "plt.xlabel('Year', fontsize=15)\n",
    "plt.ylabel('Average loan amount issued', fontsize=15)"
   ]
  },
  {
   "cell_type": "code",
   "execution_count": 46,
   "metadata": {},
   "outputs": [
    {
     "data": {
      "text/plain": [
       "[Text(0,0.5,'(%)')]"
      ]
     },
     "execution_count": 46,
     "metadata": {},
     "output_type": "execute_result"
    },
    {
     "data": {
      "image/png": "[encoded data removed]",
      "text/plain": [
       "<matplotlib.figure.Figure at 0x1ad1b093748>"
      ]
     },
     "metadata": {},
     "output_type": "display_data"
    }
   ],
   "source": [
    "f, ax = plt.subplots(1,2, figsize=(16,8))\n",
    "\n",
    "colors = [\"ORANGE\", \"BLUE\"]\n",
    "labels =\"Good_Loan\", \"Not_Good_Loan\"\n",
    "\n",
    "plt.suptitle('Loan Condition Information', fontsize=20)\n",
    "\n",
    "loan_4[\"loan_condition\"].value_counts().plot.pie(explode=[0,0.25], autopct='%1.2f%%', ax=ax[0], shadow=True, colors=colors, \n",
    "                                             labels=labels, fontsize=12, startangle=70)\n",
    "\n",
    "ax[0].set_ylabel('% of Condition of Loans', fontsize=14)\n",
    "palette = [\"ORANGE\", \"BLUE\"]\n",
    "\n",
    "sns.barplot(x=\"year\", y=\"loan_amnt\", hue=\"loan_condition\", data=loan_4, palette=palette, estimator=lambda x: len(x) / len(loan_4) * 100)\n",
    "ax[1].set(ylabel=\"(%)\")\n"
   ]
  },
  {
   "cell_type": "code",
   "execution_count": 47,
   "metadata": {},
   "outputs": [
    {
     "data": {
      "text/plain": [
       "array(['AZ', 'GA', 'IL', 'CA', 'NC', 'TX', 'VA', 'MO', 'CT', 'UT', 'FL',\n",
       "       'NY', 'PA', 'MN', 'NJ', 'OR', 'KY', 'OH', 'SC', 'RI', 'LA', 'MA',\n",
       "       'WA', 'WI', 'AL', 'NV', 'AK', 'CO', 'MD', 'WV', 'VT', 'MI', 'DC',\n",
       "       'SD', 'NH', 'AR', 'NM', 'KS', 'HI', 'OK', 'MT', 'WY', 'DE', 'MS',\n",
       "       'TN', 'IA', 'NE', 'ID', 'IN', 'ME'], dtype=object)"
      ]
     },
     "execution_count": 47,
     "metadata": {},
     "output_type": "execute_result"
    }
   ],
   "source": [
    "loan_4['addr_state'].unique()"
   ]
  },
  {
   "cell_type": "code",
   "execution_count": 48,
   "metadata": {},
   "outputs": [],
   "source": [
    "#List of the regions by state.\n",
    "\n",
    "west = ['CA', 'OR', 'UT','WA', 'CO', 'NV', 'AK', 'MT', 'HI', 'WY', 'ID']\n",
    "south_west = ['AZ', 'TX', 'NM', 'OK']\n",
    "south_east = ['GA', 'NC', 'VA', 'FL', 'KY', 'SC', 'LA', 'AL', 'WV', 'DC', 'AR', 'DE', 'MS', 'TN' ]\n",
    "mid_west = ['IL', 'MO', 'MN', 'OH', 'WI', 'KS', 'MI', 'SD', 'IA', 'NE', 'IN', 'ND']\n",
    "north_east = ['CT', 'NY', 'PA', 'NJ', 'RI','MA', 'MD', 'VT', 'NH', 'ME']"
   ]
  },
  {
   "cell_type": "code",
   "execution_count": 49,
   "metadata": {},
   "outputs": [],
   "source": [
    "loan['region'] = np.nan\n",
    "\n",
    "def the_regions(state):\n",
    "    if state in west:\n",
    "        return 'West'\n",
    "    elif state in south_west:\n",
    "        return 'SouthWest'\n",
    "    elif state in south_east:\n",
    "        return 'SouthEast'\n",
    "    elif state in mid_west:\n",
    "        return 'MidWest'\n",
    "    elif state in north_east:\n",
    "        return 'NorthEast'\n",
    "\n",
    "loan_4['region'] = loan_4['addr_state'].apply(the_regions)"
   ]
  },
  {
   "cell_type": "code",
   "execution_count": 50,
   "metadata": {},
   "outputs": [],
   "source": [
    "loan['region'] = np.nan\n",
    "\n",
    "def the_regions(state):\n",
    "    if state in west:\n",
    "        return 'West'\n",
    "    elif state in south_west:\n",
    "        return 'SouthWest'\n",
    "    elif state in south_east:\n",
    "        return 'SouthEast'\n",
    "    elif state in mid_west:\n",
    "        return 'MidWest'\n",
    "    elif state in north_east:\n",
    "        return 'NorthEast'\n",
    "\n",
    "loan['region'] = loan['addr_state'].apply(the_regions)"
   ]
  },
  {
   "cell_type": "code",
   "execution_count": 82,
   "metadata": {},
   "outputs": [],
   "source": [
    "# creating Slabs based on Month since last delq:\n",
    "def MonthSlabs(MN):\n",
    "    'divide Month since last delq into 5 categories on number of months'\n",
    "    if 0 <= MN < 6:\n",
    "        return \"Recent\"\n",
    "    elif 6 <= MN < 12:\n",
    "        return \"12Month\"\n",
    "    elif 12 <= MN <= 24:\n",
    "        return \"2Year\"\n",
    "    elif MN > 24:\n",
    "        return \"Old\"\n",
    "    else:\n",
    "        return \"No record\"\n",
    "    \n",
    "loan_4[\"last_delinq_slab\"] = loan_4.mths_since_last_delinq.apply(lambda MN: MonthSlabs(MN))"
   ]
  },
  {
   "cell_type": "code",
   "execution_count": 89,
   "metadata": {},
   "outputs": [],
   "source": [
    "# creating Slabs based on Revol utilisation:\n",
    "def RevUtSlabs(UT):\n",
    "    'divide Utilisation into 4 categories'\n",
    "    if 0 <= UT < 25:\n",
    "        return \"Low\"\n",
    "    elif 25 <= UT < 50:\n",
    "        return \"Medium\"\n",
    "    elif 50 <= UT <= 75:\n",
    "        return \"High\"\n",
    "    else:\n",
    "        return \"Very High\"\n",
    "    \n",
    "loan_4[\"revol_util_slab\"] = loan_4.revol_util.apply(lambda UT: RevUtSlabs(UT))"
   ]
  },
  {
   "cell_type": "code",
   "execution_count": 94,
   "metadata": {},
   "outputs": [],
   "source": [
    "# creating Slabs based on Number of queries in last 6 months:\n",
    "def RevUtSlabs(QU):\n",
    "    'divide Interest Rates into 4 categories'\n",
    "    if 0 <= QU < 3:\n",
    "        return \"Low\"\n",
    "    elif 3 <= QU < 5:\n",
    "        return \"Medium\"\n",
    "    elif 5 <= QU <= 6:\n",
    "        return \"High\"\n",
    "    else:\n",
    "        return \"Very High\"\n",
    "    \n",
    "loan_4[\"inq_slab\"] = loan_4.inq_last_6mths.apply(lambda QU: RevUtSlabs(QU))"
   ]
  },
  {
   "cell_type": "code",
   "execution_count": 51,
   "metadata": {},
   "outputs": [],
   "source": [
    "loan_4['complete_date'] = pd.to_datetime(loan_4['issue_d'])"
   ]
  },
  {
   "cell_type": "code",
   "execution_count": 52,
   "metadata": {},
   "outputs": [],
   "source": [
    "group_dates = loan_4.groupby(['complete_date', 'region'], as_index=False).sum()"
   ]
  },
  {
   "cell_type": "code",
   "execution_count": 53,
   "metadata": {},
   "outputs": [],
   "source": [
    "group_dates['issue_d'] = [month.to_period('M') for \n",
    "                          month in group_dates['complete_date']]"
   ]
  },
  {
   "cell_type": "code",
   "execution_count": 54,
   "metadata": {},
   "outputs": [],
   "source": [
    "group_dates = group_dates.groupby(['issue_d', 'region'], as_index=False).sum()"
   ]
  },
  {
   "cell_type": "code",
   "execution_count": 55,
   "metadata": {},
   "outputs": [],
   "source": [
    "group_dates['loan_amnt'] = group_dates['loan_amnt']/1000\n"
   ]
  },
  {
   "cell_type": "code",
   "execution_count": 56,
   "metadata": {},
   "outputs": [],
   "source": [
    "loan_dates = pd.DataFrame(data=group_dates[['issue_d','region','loan_amnt']])"
   ]
  },
  {
   "cell_type": "code",
   "execution_count": 57,
   "metadata": {},
   "outputs": [
    {
     "data": {
      "text/plain": [
       "Text(0.5,1,'Loans issued by Region')"
      ]
     },
     "execution_count": 57,
     "metadata": {},
     "output_type": "execute_result"
    },
    {
     "data": {
      "image/png": "[encoded data removed]",
      "text/plain": [
       "<matplotlib.figure.Figure at 0x1ad1b1952e8>"
      ]
     },
     "metadata": {},
     "output_type": "display_data"
    }
   ],
   "source": [
    "plt.style.use('dark_background')\n",
    "cmap = plt.cm.Set3\n",
    "\n",
    "by_issued_amount = loan_dates.groupby(['issue_d', 'region']).loan_amnt.sum()\n",
    "by_issued_amount.unstack().plot(stacked=False, colormap=cmap, grid=False, legend=True, figsize=(15,6))\n",
    "\n",
    "plt.title('Loans issued by Region', fontsize=16)"
   ]
  },
  {
   "cell_type": "code",
   "execution_count": 58,
   "metadata": {},
   "outputs": [
    {
     "name": "stdout",
     "output_type": "stream",
     "text": [
      "home_ownership  loan_status  loan_amnt\n",
      "MORTGAGE        Charged Off  1000         10\n",
      "                             1050          1\n",
      "                             1100          1\n",
      "                             1200          6\n",
      "                             1275          1\n",
      "                             1375          1\n",
      "                             1400          4\n",
      "                             1450          1\n",
      "                             1500          9\n",
      "                             1550          2\n",
      "                             1600          1\n",
      "                             1625          1\n",
      "                             1675          1\n",
      "                             1700          2\n",
      "                             1750          1\n",
      "                             1800          4\n",
      "                             1950          1\n",
      "                             2000         18\n",
      "                             2050          1\n",
      "                             2100          5\n",
      "                             2125          1\n",
      "                             2150          1\n",
      "                             2200          4\n",
      "                             2225          1\n",
      "                             2250          2\n",
      "                             2300          1\n",
      "                             2400          8\n",
      "                             2500         17\n",
      "                             2600          3\n",
      "                             2700          1\n",
      "                                          ..\n",
      "RENT            Fully Paid   27525         1\n",
      "                             27600         2\n",
      "                             28000        32\n",
      "                             28100         3\n",
      "                             28200         1\n",
      "                             28800         1\n",
      "                             29000         1\n",
      "                             29100         4\n",
      "                             29500         1\n",
      "                             29550         1\n",
      "                             29600         1\n",
      "                             29700         2\n",
      "                             29850         1\n",
      "                             30000        71\n",
      "                             30600         1\n",
      "                             30750         1\n",
      "                             30800         1\n",
      "                             31000         1\n",
      "                             31050         1\n",
      "                             31325         1\n",
      "                             31825         1\n",
      "                             32000        12\n",
      "                             32400         1\n",
      "                             32500         1\n",
      "                             33000         2\n",
      "                             33950         2\n",
      "                             34000         2\n",
      "                             34475         1\n",
      "                             34800         2\n",
      "                             35000        97\n",
      "Name: id, Length: 2470, dtype: int64\n"
     ]
    },
    {
     "data": {
      "text/plain": [
       "<matplotlib.axes._subplots.AxesSubplot at 0x1ad1b272940>"
      ]
     },
     "execution_count": 58,
     "metadata": {},
     "output_type": "execute_result"
    },
    {
     "data": {
      "image/png": "[encoded data removed]",
      "text/plain": [
       "<matplotlib.figure.Figure at 0x1ad1b31bb70>"
      ]
     },
     "metadata": {},
     "output_type": "display_data"
    }
   ],
   "source": [
    "print(loan_4.groupby(['home_ownership','loan_status','loan_amnt'])['id'].agg('count'))\n",
    "sns.countplot(x=\"home_ownership\", hue=\"loan_status\", data = loan_4,palette=\"pastel\")"
   ]
  },
  {
   "cell_type": "code",
   "execution_count": 59,
   "metadata": {},
   "outputs": [
    {
     "data": {
      "text/plain": [
       "(38527, 53)"
      ]
     },
     "execution_count": 59,
     "metadata": {},
     "output_type": "execute_result"
    }
   ],
   "source": [
    "loan_4.shape"
   ]
  },
  {
   "cell_type": "code",
   "execution_count": 60,
   "metadata": {},
   "outputs": [
    {
     "name": "stdout",
     "output_type": "stream",
     "text": [
      "11055.265138733876\n"
     ]
    }
   ],
   "source": [
    "Avg_Amout_loan = loan_4['loan_amnt'].sum()/38527\n",
    "print(Avg_Amout_loan)"
   ]
  },
  {
   "cell_type": "code",
   "execution_count": 61,
   "metadata": {},
   "outputs": [
    {
     "name": "stdout",
     "output_type": "stream",
     "text": [
      "home_ownership  loan_status  loan_amnt\n",
      "MORTGAGE        Charged Off  1000         10\n",
      "                             1050          1\n",
      "                             1100          1\n",
      "                             1200          6\n",
      "                             1275          1\n",
      "                             1375          1\n",
      "                             1400          4\n",
      "                             1450          1\n",
      "                             1500          9\n",
      "                             1550          2\n",
      "                             1600          1\n",
      "                             1625          1\n",
      "                             1675          1\n",
      "                             1700          2\n",
      "                             1750          1\n",
      "                             1800          4\n",
      "                             1950          1\n",
      "                             2000         18\n",
      "                             2050          1\n",
      "                             2100          5\n",
      "                             2125          1\n",
      "                             2150          1\n",
      "                             2200          4\n",
      "                             2225          1\n",
      "                             2250          2\n",
      "                             2300          1\n",
      "                             2400          8\n",
      "                             2500         17\n",
      "                             2600          3\n",
      "                             2700          1\n",
      "                                          ..\n",
      "RENT            Fully Paid   27525         1\n",
      "                             27600         2\n",
      "                             28000        32\n",
      "                             28100         3\n",
      "                             28200         1\n",
      "                             28800         1\n",
      "                             29000         1\n",
      "                             29100         4\n",
      "                             29500         1\n",
      "                             29550         1\n",
      "                             29600         1\n",
      "                             29700         2\n",
      "                             29850         1\n",
      "                             30000        71\n",
      "                             30600         1\n",
      "                             30750         1\n",
      "                             30800         1\n",
      "                             31000         1\n",
      "                             31050         1\n",
      "                             31325         1\n",
      "                             31825         1\n",
      "                             32000        12\n",
      "                             32400         1\n",
      "                             32500         1\n",
      "                             33000         2\n",
      "                             33950         2\n",
      "                             34000         2\n",
      "                             34475         1\n",
      "                             34800         2\n",
      "                             35000        97\n",
      "Name: id, Length: 2470, dtype: int64\n"
     ]
    },
    {
     "data": {
      "text/plain": [
       "<matplotlib.axes._subplots.AxesSubplot at 0x1ad1b256160>"
      ]
     },
     "execution_count": 61,
     "metadata": {},
     "output_type": "execute_result"
    },
    {
     "data": {
      "image/png": "[encoded data removed]",
      "text/plain": [
       "<matplotlib.figure.Figure at 0x1ad14e16f28>"
      ]
     },
     "metadata": {},
     "output_type": "display_data"
    }
   ],
   "source": [
    "print(loan_4.groupby(['home_ownership','loan_status','loan_amnt'])['id'].agg('count'))\n",
    "sns.countplot(x=\"home_ownership\", hue=\"loan_status\", data = loan_4,palette=\"pastel\")"
   ]
  },
  {
   "cell_type": "code",
   "execution_count": 62,
   "metadata": {},
   "outputs": [
    {
     "data": {
      "text/html": [
       "<div>\n",
       "<style scoped>\n",
       "    .dataframe tbody tr th:only-of-type {\n",
       "        vertical-align: middle;\n",
       "    }\n",
       "\n",
       "    .dataframe tbody tr th {\n",
       "        vertical-align: top;\n",
       "    }\n",
       "\n",
       "    .dataframe thead th {\n",
       "        text-align: right;\n",
       "    }\n",
       "</style>\n",
       "<table border=\"1\" class=\"dataframe\">\n",
       "  <thead>\n",
       "    <tr style=\"text-align: right;\">\n",
       "      <th></th>\n",
       "      <th>id</th>\n",
       "      <th>member_id</th>\n",
       "      <th>loan_amnt</th>\n",
       "      <th>funded_amnt</th>\n",
       "      <th>funded_amnt_inv</th>\n",
       "      <th>term</th>\n",
       "      <th>int_rate</th>\n",
       "      <th>installment</th>\n",
       "      <th>grade</th>\n",
       "      <th>sub_grade</th>\n",
       "      <th>...</th>\n",
       "      <th>last_pymnt_d</th>\n",
       "      <th>last_pymnt_amnt</th>\n",
       "      <th>last_credit_pull_d</th>\n",
       "      <th>pub_rec_bankruptcies</th>\n",
       "      <th>year</th>\n",
       "      <th>Interest_Rates_Slab</th>\n",
       "      <th>Emp_Exp_Slab</th>\n",
       "      <th>loan_condition</th>\n",
       "      <th>region</th>\n",
       "      <th>complete_date</th>\n",
       "    </tr>\n",
       "  </thead>\n",
       "  <tbody>\n",
       "    <tr>\n",
       "      <th>11</th>\n",
       "      <td>1069908</td>\n",
       "      <td>1305008</td>\n",
       "      <td>12000</td>\n",
       "      <td>12000</td>\n",
       "      <td>12000.00000</td>\n",
       "      <td>36</td>\n",
       "      <td>12.69</td>\n",
       "      <td>402.54</td>\n",
       "      <td>B</td>\n",
       "      <td>B5</td>\n",
       "      <td>...</td>\n",
       "      <td>2013-09-01</td>\n",
       "      <td>6315.30</td>\n",
       "      <td>2013-08-01</td>\n",
       "      <td>0.0</td>\n",
       "      <td>2011</td>\n",
       "      <td>Medium</td>\n",
       "      <td>Senior</td>\n",
       "      <td>Good_Loan</td>\n",
       "      <td>West</td>\n",
       "      <td>2011-12-01</td>\n",
       "    </tr>\n",
       "    <tr>\n",
       "      <th>20</th>\n",
       "      <td>1069740</td>\n",
       "      <td>1284848</td>\n",
       "      <td>20250</td>\n",
       "      <td>20250</td>\n",
       "      <td>19142.16108</td>\n",
       "      <td>60</td>\n",
       "      <td>15.27</td>\n",
       "      <td>484.63</td>\n",
       "      <td>C</td>\n",
       "      <td>C4</td>\n",
       "      <td>...</td>\n",
       "      <td>2015-08-01</td>\n",
       "      <td>6024.09</td>\n",
       "      <td>2016-03-01</td>\n",
       "      <td>0.0</td>\n",
       "      <td>2011</td>\n",
       "      <td>Medium</td>\n",
       "      <td>Junior</td>\n",
       "      <td>Good_Loan</td>\n",
       "      <td>SouthWest</td>\n",
       "      <td>2011-12-01</td>\n",
       "    </tr>\n",
       "    <tr>\n",
       "      <th>21</th>\n",
       "      <td>1039153</td>\n",
       "      <td>1269083</td>\n",
       "      <td>21000</td>\n",
       "      <td>21000</td>\n",
       "      <td>21000.00000</td>\n",
       "      <td>36</td>\n",
       "      <td>12.42</td>\n",
       "      <td>701.73</td>\n",
       "      <td>B</td>\n",
       "      <td>B4</td>\n",
       "      <td>...</td>\n",
       "      <td>2013-09-01</td>\n",
       "      <td>701.73</td>\n",
       "      <td>2016-05-01</td>\n",
       "      <td>0.0</td>\n",
       "      <td>2011</td>\n",
       "      <td>Medium</td>\n",
       "      <td>Senior</td>\n",
       "      <td>Not_Good_Loan</td>\n",
       "      <td>SouthEast</td>\n",
       "      <td>2011-12-01</td>\n",
       "    </tr>\n",
       "    <tr>\n",
       "      <th>25</th>\n",
       "      <td>1069697</td>\n",
       "      <td>1273773</td>\n",
       "      <td>15000</td>\n",
       "      <td>15000</td>\n",
       "      <td>15000.00000</td>\n",
       "      <td>36</td>\n",
       "      <td>9.91</td>\n",
       "      <td>483.38</td>\n",
       "      <td>B</td>\n",
       "      <td>B1</td>\n",
       "      <td>...</td>\n",
       "      <td>2012-09-01</td>\n",
       "      <td>2447.05</td>\n",
       "      <td>2012-09-01</td>\n",
       "      <td>0.0</td>\n",
       "      <td>2011</td>\n",
       "      <td>Low</td>\n",
       "      <td>Junior</td>\n",
       "      <td>Good_Loan</td>\n",
       "      <td>MidWest</td>\n",
       "      <td>2011-12-01</td>\n",
       "    </tr>\n",
       "    <tr>\n",
       "      <th>26</th>\n",
       "      <td>1069800</td>\n",
       "      <td>1304679</td>\n",
       "      <td>15000</td>\n",
       "      <td>15000</td>\n",
       "      <td>8725.00000</td>\n",
       "      <td>36</td>\n",
       "      <td>14.27</td>\n",
       "      <td>514.64</td>\n",
       "      <td>C</td>\n",
       "      <td>C2</td>\n",
       "      <td>...</td>\n",
       "      <td>NaT</td>\n",
       "      <td>0.00</td>\n",
       "      <td>2016-05-01</td>\n",
       "      <td>0.0</td>\n",
       "      <td>2011</td>\n",
       "      <td>Medium</td>\n",
       "      <td>Senior</td>\n",
       "      <td>Not_Good_Loan</td>\n",
       "      <td>NorthEast</td>\n",
       "      <td>2011-12-01</td>\n",
       "    </tr>\n",
       "  </tbody>\n",
       "</table>\n",
       "<p>5 rows × 53 columns</p>\n",
       "</div>"
      ],
      "text/plain": [
       "         id  member_id  loan_amnt  funded_amnt  funded_amnt_inv  term  \\\n",
       "11  1069908    1305008      12000        12000      12000.00000    36   \n",
       "20  1069740    1284848      20250        20250      19142.16108    60   \n",
       "21  1039153    1269083      21000        21000      21000.00000    36   \n",
       "25  1069697    1273773      15000        15000      15000.00000    36   \n",
       "26  1069800    1304679      15000        15000       8725.00000    36   \n",
       "\n",
       "    int_rate  installment grade sub_grade      ...      last_pymnt_d  \\\n",
       "11     12.69       402.54     B        B5      ...        2013-09-01   \n",
       "20     15.27       484.63     C        C4      ...        2015-08-01   \n",
       "21     12.42       701.73     B        B4      ...        2013-09-01   \n",
       "25      9.91       483.38     B        B1      ...        2012-09-01   \n",
       "26     14.27       514.64     C        C2      ...               NaT   \n",
       "\n",
       "   last_pymnt_amnt last_credit_pull_d  pub_rec_bankruptcies  year  \\\n",
       "11         6315.30         2013-08-01                   0.0  2011   \n",
       "20         6024.09         2016-03-01                   0.0  2011   \n",
       "21          701.73         2016-05-01                   0.0  2011   \n",
       "25         2447.05         2012-09-01                   0.0  2011   \n",
       "26            0.00         2016-05-01                   0.0  2011   \n",
       "\n",
       "   Interest_Rates_Slab Emp_Exp_Slab loan_condition     region complete_date  \n",
       "11              Medium       Senior      Good_Loan       West    2011-12-01  \n",
       "20              Medium       Junior      Good_Loan  SouthWest    2011-12-01  \n",
       "21              Medium       Senior  Not_Good_Loan  SouthEast    2011-12-01  \n",
       "25                 Low       Junior      Good_Loan    MidWest    2011-12-01  \n",
       "26              Medium       Senior  Not_Good_Loan  NorthEast    2011-12-01  \n",
       "\n",
       "[5 rows x 53 columns]"
      ]
     },
     "execution_count": 62,
     "metadata": {},
     "output_type": "execute_result"
    }
   ],
   "source": [
    "#Number of applicant having taken more than Avg loan amount\n",
    "loan_above_avg = loan_4[loan_4['loan_amnt'] > Avg_Amout_loan]\n",
    "pd.DataFrame(loan_above_avg)\n",
    "loan_above_avg.head()"
   ]
  },
  {
   "cell_type": "code",
   "execution_count": 63,
   "metadata": {},
   "outputs": [
    {
     "data": {
      "text/plain": [
       "(15479, 53)"
      ]
     },
     "execution_count": 63,
     "metadata": {},
     "output_type": "execute_result"
    }
   ],
   "source": [
    "loan_above_avg.shape"
   ]
  },
  {
   "cell_type": "code",
   "execution_count": 64,
   "metadata": {},
   "outputs": [
    {
     "data": {
      "text/html": [
       "<div>\n",
       "<style scoped>\n",
       "    .dataframe tbody tr th:only-of-type {\n",
       "        vertical-align: middle;\n",
       "    }\n",
       "\n",
       "    .dataframe tbody tr th {\n",
       "        vertical-align: top;\n",
       "    }\n",
       "\n",
       "    .dataframe thead th {\n",
       "        text-align: right;\n",
       "    }\n",
       "</style>\n",
       "<table border=\"1\" class=\"dataframe\">\n",
       "  <thead>\n",
       "    <tr style=\"text-align: right;\">\n",
       "      <th></th>\n",
       "      <th>id</th>\n",
       "      <th>member_id</th>\n",
       "      <th>loan_amnt</th>\n",
       "      <th>funded_amnt</th>\n",
       "      <th>funded_amnt_inv</th>\n",
       "      <th>term</th>\n",
       "      <th>int_rate</th>\n",
       "      <th>installment</th>\n",
       "      <th>grade</th>\n",
       "      <th>sub_grade</th>\n",
       "      <th>...</th>\n",
       "      <th>last_pymnt_d</th>\n",
       "      <th>last_pymnt_amnt</th>\n",
       "      <th>last_credit_pull_d</th>\n",
       "      <th>pub_rec_bankruptcies</th>\n",
       "      <th>year</th>\n",
       "      <th>Interest_Rates_Slab</th>\n",
       "      <th>Emp_Exp_Slab</th>\n",
       "      <th>loan_condition</th>\n",
       "      <th>region</th>\n",
       "      <th>complete_date</th>\n",
       "    </tr>\n",
       "  </thead>\n",
       "  <tbody>\n",
       "    <tr>\n",
       "      <th>11</th>\n",
       "      <td>1069908</td>\n",
       "      <td>1305008</td>\n",
       "      <td>12000</td>\n",
       "      <td>12000</td>\n",
       "      <td>12000.00000</td>\n",
       "      <td>36</td>\n",
       "      <td>12.69</td>\n",
       "      <td>402.54</td>\n",
       "      <td>B</td>\n",
       "      <td>B5</td>\n",
       "      <td>...</td>\n",
       "      <td>2013-09-01</td>\n",
       "      <td>6315.30</td>\n",
       "      <td>2013-08-01</td>\n",
       "      <td>0.0</td>\n",
       "      <td>2011</td>\n",
       "      <td>Medium</td>\n",
       "      <td>Senior</td>\n",
       "      <td>Good_Loan</td>\n",
       "      <td>West</td>\n",
       "      <td>2011-12-01</td>\n",
       "    </tr>\n",
       "    <tr>\n",
       "      <th>20</th>\n",
       "      <td>1069740</td>\n",
       "      <td>1284848</td>\n",
       "      <td>20250</td>\n",
       "      <td>20250</td>\n",
       "      <td>19142.16108</td>\n",
       "      <td>60</td>\n",
       "      <td>15.27</td>\n",
       "      <td>484.63</td>\n",
       "      <td>C</td>\n",
       "      <td>C4</td>\n",
       "      <td>...</td>\n",
       "      <td>2015-08-01</td>\n",
       "      <td>6024.09</td>\n",
       "      <td>2016-03-01</td>\n",
       "      <td>0.0</td>\n",
       "      <td>2011</td>\n",
       "      <td>Medium</td>\n",
       "      <td>Junior</td>\n",
       "      <td>Good_Loan</td>\n",
       "      <td>SouthWest</td>\n",
       "      <td>2011-12-01</td>\n",
       "    </tr>\n",
       "    <tr>\n",
       "      <th>21</th>\n",
       "      <td>1039153</td>\n",
       "      <td>1269083</td>\n",
       "      <td>21000</td>\n",
       "      <td>21000</td>\n",
       "      <td>21000.00000</td>\n",
       "      <td>36</td>\n",
       "      <td>12.42</td>\n",
       "      <td>701.73</td>\n",
       "      <td>B</td>\n",
       "      <td>B4</td>\n",
       "      <td>...</td>\n",
       "      <td>2013-09-01</td>\n",
       "      <td>701.73</td>\n",
       "      <td>2016-05-01</td>\n",
       "      <td>0.0</td>\n",
       "      <td>2011</td>\n",
       "      <td>Medium</td>\n",
       "      <td>Senior</td>\n",
       "      <td>Not_Good_Loan</td>\n",
       "      <td>SouthEast</td>\n",
       "      <td>2011-12-01</td>\n",
       "    </tr>\n",
       "    <tr>\n",
       "      <th>25</th>\n",
       "      <td>1069697</td>\n",
       "      <td>1273773</td>\n",
       "      <td>15000</td>\n",
       "      <td>15000</td>\n",
       "      <td>15000.00000</td>\n",
       "      <td>36</td>\n",
       "      <td>9.91</td>\n",
       "      <td>483.38</td>\n",
       "      <td>B</td>\n",
       "      <td>B1</td>\n",
       "      <td>...</td>\n",
       "      <td>2012-09-01</td>\n",
       "      <td>2447.05</td>\n",
       "      <td>2012-09-01</td>\n",
       "      <td>0.0</td>\n",
       "      <td>2011</td>\n",
       "      <td>Low</td>\n",
       "      <td>Junior</td>\n",
       "      <td>Good_Loan</td>\n",
       "      <td>MidWest</td>\n",
       "      <td>2011-12-01</td>\n",
       "    </tr>\n",
       "    <tr>\n",
       "      <th>26</th>\n",
       "      <td>1069800</td>\n",
       "      <td>1304679</td>\n",
       "      <td>15000</td>\n",
       "      <td>15000</td>\n",
       "      <td>8725.00000</td>\n",
       "      <td>36</td>\n",
       "      <td>14.27</td>\n",
       "      <td>514.64</td>\n",
       "      <td>C</td>\n",
       "      <td>C2</td>\n",
       "      <td>...</td>\n",
       "      <td>NaT</td>\n",
       "      <td>0.00</td>\n",
       "      <td>2016-05-01</td>\n",
       "      <td>0.0</td>\n",
       "      <td>2011</td>\n",
       "      <td>Medium</td>\n",
       "      <td>Senior</td>\n",
       "      <td>Not_Good_Loan</td>\n",
       "      <td>NorthEast</td>\n",
       "      <td>2011-12-01</td>\n",
       "    </tr>\n",
       "  </tbody>\n",
       "</table>\n",
       "<p>5 rows × 53 columns</p>\n",
       "</div>"
      ],
      "text/plain": [
       "         id  member_id  loan_amnt  funded_amnt  funded_amnt_inv  term  \\\n",
       "11  1069908    1305008      12000        12000      12000.00000    36   \n",
       "20  1069740    1284848      20250        20250      19142.16108    60   \n",
       "21  1039153    1269083      21000        21000      21000.00000    36   \n",
       "25  1069697    1273773      15000        15000      15000.00000    36   \n",
       "26  1069800    1304679      15000        15000       8725.00000    36   \n",
       "\n",
       "    int_rate  installment grade sub_grade      ...      last_pymnt_d  \\\n",
       "11     12.69       402.54     B        B5      ...        2013-09-01   \n",
       "20     15.27       484.63     C        C4      ...        2015-08-01   \n",
       "21     12.42       701.73     B        B4      ...        2013-09-01   \n",
       "25      9.91       483.38     B        B1      ...        2012-09-01   \n",
       "26     14.27       514.64     C        C2      ...               NaT   \n",
       "\n",
       "   last_pymnt_amnt last_credit_pull_d  pub_rec_bankruptcies  year  \\\n",
       "11         6315.30         2013-08-01                   0.0  2011   \n",
       "20         6024.09         2016-03-01                   0.0  2011   \n",
       "21          701.73         2016-05-01                   0.0  2011   \n",
       "25         2447.05         2012-09-01                   0.0  2011   \n",
       "26            0.00         2016-05-01                   0.0  2011   \n",
       "\n",
       "   Interest_Rates_Slab Emp_Exp_Slab loan_condition     region complete_date  \n",
       "11              Medium       Senior      Good_Loan       West    2011-12-01  \n",
       "20              Medium       Junior      Good_Loan  SouthWest    2011-12-01  \n",
       "21              Medium       Senior  Not_Good_Loan  SouthEast    2011-12-01  \n",
       "25                 Low       Junior      Good_Loan    MidWest    2011-12-01  \n",
       "26              Medium       Senior  Not_Good_Loan  NorthEast    2011-12-01  \n",
       "\n",
       "[5 rows x 53 columns]"
      ]
     },
     "execution_count": 64,
     "metadata": {},
     "output_type": "execute_result"
    }
   ],
   "source": [
    "loan_above_avg.head()"
   ]
  },
  {
   "cell_type": "code",
   "execution_count": 65,
   "metadata": {},
   "outputs": [
    {
     "data": {
      "text/plain": [
       "Index(['id', 'member_id', 'loan_amnt', 'funded_amnt', 'funded_amnt_inv',\n",
       "       'term', 'int_rate', 'installment', 'grade', 'sub_grade', 'emp_title',\n",
       "       'emp_length', 'home_ownership', 'annual_inc', 'verification_status',\n",
       "       'issue_d', 'loan_status', 'pymnt_plan', 'url', 'desc', 'purpose',\n",
       "       'title', 'zip_code', 'addr_state', 'dti', 'delinq_2yrs',\n",
       "       'earliest_cr_line', 'inq_last_6mths', 'mths_since_last_delinq',\n",
       "       'open_acc', 'pub_rec', 'revol_bal', 'revol_util', 'total_acc',\n",
       "       'out_prncp', 'out_prncp_inv', 'total_pymnt', 'total_pymnt_inv',\n",
       "       'total_rec_prncp', 'total_rec_int', 'total_rec_late_fee', 'recoveries',\n",
       "       'collection_recovery_fee', 'last_pymnt_d', 'last_pymnt_amnt',\n",
       "       'last_credit_pull_d', 'pub_rec_bankruptcies', 'year',\n",
       "       'Interest_Rates_Slab', 'Emp_Exp_Slab', 'loan_condition', 'region',\n",
       "       'complete_date'],\n",
       "      dtype='object')"
      ]
     },
     "execution_count": 65,
     "metadata": {},
     "output_type": "execute_result"
    }
   ],
   "source": [
    "loan_above_avg.columns"
   ]
  },
  {
   "cell_type": "code",
   "execution_count": 66,
   "metadata": {},
   "outputs": [
    {
     "data": {
      "text/html": [
       "<div>\n",
       "<style scoped>\n",
       "    .dataframe tbody tr th:only-of-type {\n",
       "        vertical-align: middle;\n",
       "    }\n",
       "\n",
       "    .dataframe tbody tr th {\n",
       "        vertical-align: top;\n",
       "    }\n",
       "\n",
       "    .dataframe thead th {\n",
       "        text-align: right;\n",
       "    }\n",
       "</style>\n",
       "<table border=\"1\" class=\"dataframe\">\n",
       "  <thead>\n",
       "    <tr style=\"text-align: right;\">\n",
       "      <th></th>\n",
       "      <th>installment</th>\n",
       "    </tr>\n",
       "    <tr>\n",
       "      <th>loan_amnt</th>\n",
       "      <th></th>\n",
       "    </tr>\n",
       "  </thead>\n",
       "  <tbody>\n",
       "    <tr>\n",
       "      <th>11075</th>\n",
       "      <td>1</td>\n",
       "    </tr>\n",
       "    <tr>\n",
       "      <th>11100</th>\n",
       "      <td>18</td>\n",
       "    </tr>\n",
       "    <tr>\n",
       "      <th>11125</th>\n",
       "      <td>2</td>\n",
       "    </tr>\n",
       "    <tr>\n",
       "      <th>11175</th>\n",
       "      <td>1</td>\n",
       "    </tr>\n",
       "    <tr>\n",
       "      <th>11200</th>\n",
       "      <td>142</td>\n",
       "    </tr>\n",
       "  </tbody>\n",
       "</table>\n",
       "</div>"
      ],
      "text/plain": [
       "           installment\n",
       "loan_amnt             \n",
       "11075                1\n",
       "11100               18\n",
       "11125                2\n",
       "11175                1\n",
       "11200              142"
      ]
     },
     "execution_count": 66,
     "metadata": {},
     "output_type": "execute_result"
    }
   ],
   "source": [
    "loan_inst_cnt=loan_above_avg.groupby('loan_amnt').installment.count()\n",
    "loan_above_avg_int_cnt = pd.DataFrame(loan_inst_cnt)\n",
    "loan_above_avg_int_cnt.head()"
   ]
  },
  {
   "cell_type": "code",
   "execution_count": 67,
   "metadata": {},
   "outputs": [
    {
     "data": {
      "text/html": [
       "<div>\n",
       "<style scoped>\n",
       "    .dataframe tbody tr th:only-of-type {\n",
       "        vertical-align: middle;\n",
       "    }\n",
       "\n",
       "    .dataframe tbody tr th {\n",
       "        vertical-align: top;\n",
       "    }\n",
       "\n",
       "    .dataframe thead th {\n",
       "        text-align: right;\n",
       "    }\n",
       "</style>\n",
       "<table border=\"1\" class=\"dataframe\">\n",
       "  <thead>\n",
       "    <tr style=\"text-align: right;\">\n",
       "      <th></th>\n",
       "      <th>installment</th>\n",
       "    </tr>\n",
       "    <tr>\n",
       "      <th>loan_amnt</th>\n",
       "      <th></th>\n",
       "    </tr>\n",
       "  </thead>\n",
       "  <tbody>\n",
       "    <tr>\n",
       "      <th>11075</th>\n",
       "      <td>1</td>\n",
       "    </tr>\n",
       "    <tr>\n",
       "      <th>11100</th>\n",
       "      <td>18</td>\n",
       "    </tr>\n",
       "    <tr>\n",
       "      <th>11125</th>\n",
       "      <td>2</td>\n",
       "    </tr>\n",
       "    <tr>\n",
       "      <th>11175</th>\n",
       "      <td>1</td>\n",
       "    </tr>\n",
       "    <tr>\n",
       "      <th>11200</th>\n",
       "      <td>142</td>\n",
       "    </tr>\n",
       "  </tbody>\n",
       "</table>\n",
       "</div>"
      ],
      "text/plain": [
       "           installment\n",
       "loan_amnt             \n",
       "11075                1\n",
       "11100               18\n",
       "11125                2\n",
       "11175                1\n",
       "11200              142"
      ]
     },
     "execution_count": 67,
     "metadata": {},
     "output_type": "execute_result"
    }
   ],
   "source": [
    "pd.DataFrame(loan_above_avg_int_cnt)\n",
    "loan_above_avg_int_cnt.head()"
   ]
  },
  {
   "cell_type": "code",
   "execution_count": 68,
   "metadata": {},
   "outputs": [
    {
     "data": {
      "text/html": [
       "<div>\n",
       "<style scoped>\n",
       "    .dataframe tbody tr th:only-of-type {\n",
       "        vertical-align: middle;\n",
       "    }\n",
       "\n",
       "    .dataframe tbody tr th {\n",
       "        vertical-align: top;\n",
       "    }\n",
       "\n",
       "    .dataframe thead th {\n",
       "        text-align: right;\n",
       "    }\n",
       "</style>\n",
       "<table border=\"1\" class=\"dataframe\">\n",
       "  <thead>\n",
       "    <tr style=\"text-align: right;\">\n",
       "      <th></th>\n",
       "      <th>id</th>\n",
       "      <th>member_id</th>\n",
       "      <th>loan_amnt</th>\n",
       "      <th>funded_amnt</th>\n",
       "      <th>funded_amnt_inv</th>\n",
       "      <th>term</th>\n",
       "      <th>int_rate</th>\n",
       "      <th>installment</th>\n",
       "      <th>grade</th>\n",
       "      <th>sub_grade</th>\n",
       "      <th>...</th>\n",
       "      <th>last_pymnt_d</th>\n",
       "      <th>last_pymnt_amnt</th>\n",
       "      <th>last_credit_pull_d</th>\n",
       "      <th>pub_rec_bankruptcies</th>\n",
       "      <th>year</th>\n",
       "      <th>Interest_Rates_Slab</th>\n",
       "      <th>Emp_Exp_Slab</th>\n",
       "      <th>loan_condition</th>\n",
       "      <th>region</th>\n",
       "      <th>complete_date</th>\n",
       "    </tr>\n",
       "  </thead>\n",
       "  <tbody>\n",
       "    <tr>\n",
       "      <th>0</th>\n",
       "      <td>1077501</td>\n",
       "      <td>1296599</td>\n",
       "      <td>5000</td>\n",
       "      <td>5000</td>\n",
       "      <td>4975.0</td>\n",
       "      <td>36</td>\n",
       "      <td>10.65</td>\n",
       "      <td>162.87</td>\n",
       "      <td>B</td>\n",
       "      <td>B2</td>\n",
       "      <td>...</td>\n",
       "      <td>2015-01-01</td>\n",
       "      <td>171.62</td>\n",
       "      <td>2016-05-01</td>\n",
       "      <td>0.0</td>\n",
       "      <td>2011</td>\n",
       "      <td>Medium</td>\n",
       "      <td>Senior</td>\n",
       "      <td>Good_Loan</td>\n",
       "      <td>SouthWest</td>\n",
       "      <td>2011-12-01</td>\n",
       "    </tr>\n",
       "    <tr>\n",
       "      <th>1</th>\n",
       "      <td>1077430</td>\n",
       "      <td>1314167</td>\n",
       "      <td>2500</td>\n",
       "      <td>2500</td>\n",
       "      <td>2500.0</td>\n",
       "      <td>60</td>\n",
       "      <td>15.27</td>\n",
       "      <td>59.83</td>\n",
       "      <td>C</td>\n",
       "      <td>C4</td>\n",
       "      <td>...</td>\n",
       "      <td>2013-04-01</td>\n",
       "      <td>119.66</td>\n",
       "      <td>2013-09-01</td>\n",
       "      <td>0.0</td>\n",
       "      <td>2011</td>\n",
       "      <td>Medium</td>\n",
       "      <td>Trainee</td>\n",
       "      <td>Not_Good_Loan</td>\n",
       "      <td>SouthEast</td>\n",
       "      <td>2011-12-01</td>\n",
       "    </tr>\n",
       "    <tr>\n",
       "      <th>2</th>\n",
       "      <td>1077175</td>\n",
       "      <td>1313524</td>\n",
       "      <td>2400</td>\n",
       "      <td>2400</td>\n",
       "      <td>2400.0</td>\n",
       "      <td>36</td>\n",
       "      <td>15.96</td>\n",
       "      <td>84.33</td>\n",
       "      <td>C</td>\n",
       "      <td>C5</td>\n",
       "      <td>...</td>\n",
       "      <td>2014-06-01</td>\n",
       "      <td>649.91</td>\n",
       "      <td>2016-05-01</td>\n",
       "      <td>0.0</td>\n",
       "      <td>2011</td>\n",
       "      <td>Medium</td>\n",
       "      <td>Senior</td>\n",
       "      <td>Good_Loan</td>\n",
       "      <td>MidWest</td>\n",
       "      <td>2011-12-01</td>\n",
       "    </tr>\n",
       "    <tr>\n",
       "      <th>3</th>\n",
       "      <td>1076863</td>\n",
       "      <td>1277178</td>\n",
       "      <td>10000</td>\n",
       "      <td>10000</td>\n",
       "      <td>10000.0</td>\n",
       "      <td>36</td>\n",
       "      <td>13.49</td>\n",
       "      <td>339.31</td>\n",
       "      <td>C</td>\n",
       "      <td>C1</td>\n",
       "      <td>...</td>\n",
       "      <td>2015-01-01</td>\n",
       "      <td>357.48</td>\n",
       "      <td>2016-04-01</td>\n",
       "      <td>0.0</td>\n",
       "      <td>2011</td>\n",
       "      <td>Medium</td>\n",
       "      <td>Senior</td>\n",
       "      <td>Good_Loan</td>\n",
       "      <td>West</td>\n",
       "      <td>2011-12-01</td>\n",
       "    </tr>\n",
       "    <tr>\n",
       "      <th>5</th>\n",
       "      <td>1075269</td>\n",
       "      <td>1311441</td>\n",
       "      <td>5000</td>\n",
       "      <td>5000</td>\n",
       "      <td>5000.0</td>\n",
       "      <td>36</td>\n",
       "      <td>7.90</td>\n",
       "      <td>156.46</td>\n",
       "      <td>A</td>\n",
       "      <td>A4</td>\n",
       "      <td>...</td>\n",
       "      <td>2015-01-01</td>\n",
       "      <td>161.03</td>\n",
       "      <td>2016-01-01</td>\n",
       "      <td>0.0</td>\n",
       "      <td>2011</td>\n",
       "      <td>Low</td>\n",
       "      <td>Junior</td>\n",
       "      <td>Good_Loan</td>\n",
       "      <td>SouthWest</td>\n",
       "      <td>2011-12-01</td>\n",
       "    </tr>\n",
       "  </tbody>\n",
       "</table>\n",
       "<p>5 rows × 53 columns</p>\n",
       "</div>"
      ],
      "text/plain": [
       "        id  member_id  loan_amnt  funded_amnt  funded_amnt_inv  term  \\\n",
       "0  1077501    1296599       5000         5000           4975.0    36   \n",
       "1  1077430    1314167       2500         2500           2500.0    60   \n",
       "2  1077175    1313524       2400         2400           2400.0    36   \n",
       "3  1076863    1277178      10000        10000          10000.0    36   \n",
       "5  1075269    1311441       5000         5000           5000.0    36   \n",
       "\n",
       "   int_rate  installment grade sub_grade      ...      last_pymnt_d  \\\n",
       "0     10.65       162.87     B        B2      ...        2015-01-01   \n",
       "1     15.27        59.83     C        C4      ...        2013-04-01   \n",
       "2     15.96        84.33     C        C5      ...        2014-06-01   \n",
       "3     13.49       339.31     C        C1      ...        2015-01-01   \n",
       "5      7.90       156.46     A        A4      ...        2015-01-01   \n",
       "\n",
       "  last_pymnt_amnt last_credit_pull_d  pub_rec_bankruptcies  year  \\\n",
       "0          171.62         2016-05-01                   0.0  2011   \n",
       "1          119.66         2013-09-01                   0.0  2011   \n",
       "2          649.91         2016-05-01                   0.0  2011   \n",
       "3          357.48         2016-04-01                   0.0  2011   \n",
       "5          161.03         2016-01-01                   0.0  2011   \n",
       "\n",
       "  Interest_Rates_Slab Emp_Exp_Slab loan_condition     region complete_date  \n",
       "0              Medium       Senior      Good_Loan  SouthWest    2011-12-01  \n",
       "1              Medium      Trainee  Not_Good_Loan  SouthEast    2011-12-01  \n",
       "2              Medium       Senior      Good_Loan    MidWest    2011-12-01  \n",
       "3              Medium       Senior      Good_Loan       West    2011-12-01  \n",
       "5                 Low       Junior      Good_Loan  SouthWest    2011-12-01  \n",
       "\n",
       "[5 rows x 53 columns]"
      ]
     },
     "execution_count": 68,
     "metadata": {},
     "output_type": "execute_result"
    }
   ],
   "source": [
    "#Number of applicant having taken less than Avg loan amount\n",
    "loan_below_avg = loan_4[loan_4['loan_amnt'] < Avg_Amout_loan]\n",
    "pd.DataFrame(loan_below_avg)\n",
    "loan_below_avg.head()"
   ]
  },
  {
   "cell_type": "code",
   "execution_count": 69,
   "metadata": {},
   "outputs": [
    {
     "data": {
      "text/html": [
       "<div>\n",
       "<style scoped>\n",
       "    .dataframe tbody tr th:only-of-type {\n",
       "        vertical-align: middle;\n",
       "    }\n",
       "\n",
       "    .dataframe tbody tr th {\n",
       "        vertical-align: top;\n",
       "    }\n",
       "\n",
       "    .dataframe thead th {\n",
       "        text-align: right;\n",
       "    }\n",
       "</style>\n",
       "<table border=\"1\" class=\"dataframe\">\n",
       "  <thead>\n",
       "    <tr style=\"text-align: right;\">\n",
       "      <th></th>\n",
       "      <th>installment</th>\n",
       "    </tr>\n",
       "    <tr>\n",
       "      <th>loan_amnt</th>\n",
       "      <th></th>\n",
       "    </tr>\n",
       "  </thead>\n",
       "  <tbody>\n",
       "    <tr>\n",
       "      <th>500</th>\n",
       "      <td>5</td>\n",
       "    </tr>\n",
       "    <tr>\n",
       "      <th>725</th>\n",
       "      <td>1</td>\n",
       "    </tr>\n",
       "    <tr>\n",
       "      <th>750</th>\n",
       "      <td>1</td>\n",
       "    </tr>\n",
       "    <tr>\n",
       "      <th>800</th>\n",
       "      <td>1</td>\n",
       "    </tr>\n",
       "    <tr>\n",
       "      <th>900</th>\n",
       "      <td>2</td>\n",
       "    </tr>\n",
       "  </tbody>\n",
       "</table>\n",
       "</div>"
      ],
      "text/plain": [
       "           installment\n",
       "loan_amnt             \n",
       "500                  5\n",
       "725                  1\n",
       "750                  1\n",
       "800                  1\n",
       "900                  2"
      ]
     },
     "execution_count": 69,
     "metadata": {},
     "output_type": "execute_result"
    }
   ],
   "source": [
    "#Frequency of below Average Loan\n",
    "loan_inst_cnt_blw=loan_below_avg.groupby('loan_amnt').installment.count()\n",
    "loan_below_avg_int_cnt = pd.DataFrame(loan_inst_cnt_blw)\n",
    "loan_below_avg_int_cnt.head()"
   ]
  },
  {
   "cell_type": "code",
   "execution_count": 70,
   "metadata": {},
   "outputs": [
    {
     "data": {
      "text/plain": [
       "(393, 1)"
      ]
     },
     "execution_count": 70,
     "metadata": {},
     "output_type": "execute_result"
    }
   ],
   "source": [
    "# Loan having group by total different loans counts less than avg loan amount\n",
    "loan_below_avg_int_cnt.shape"
   ]
  },
  {
   "cell_type": "code",
   "execution_count": 71,
   "metadata": {},
   "outputs": [
    {
     "data": {
      "text/plain": [
       "<matplotlib.axes._subplots.AxesSubplot at 0x1ad1bfeeeb8>"
      ]
     },
     "execution_count": 71,
     "metadata": {},
     "output_type": "execute_result"
    },
    {
     "data": {
      "image/png": "[encoded data removed]",
      "text/plain": [
       "<matplotlib.figure.Figure at 0x1ad1bf94a58>"
      ]
     },
     "metadata": {},
     "output_type": "display_data"
    }
   ],
   "source": [
    "sns.countplot(x=\"grade\",hue=\"loan_status\", data = loan_4,palette=\"pastel\")"
   ]
  },
  {
   "cell_type": "code",
   "execution_count": 79,
   "metadata": {},
   "outputs": [
    {
     "name": "stdout",
     "output_type": "stream",
     "text": [
      "B    25.396543\n",
      "C    23.935127\n",
      "D    19.871681\n",
      "E    12.671538\n",
      "A    10.728925\n",
      "F     5.631795\n",
      "G     1.764391\n",
      "Name: grade, dtype: float64\n",
      "B    31.136833\n",
      "A    28.688176\n",
      "C    19.677361\n",
      "D    12.012395\n",
      "E     5.896828\n",
      "F     1.986876\n",
      "G     0.601531\n",
      "Name: grade, dtype: float64\n"
     ]
    }
   ],
   "source": [
    "print(loan_4.loc[loan_4['loan_status']=='Charged Off',\"grade\"].value_counts()/len(loan_4[loan_4['loan_status']=='Charged Off'].index)*100)\n",
    "print(loan_4.loc[loan_4['loan_status']=='Fully Paid',\"grade\"].value_counts()/len(loan_4[loan_4['loan_status']=='Fully Paid'].index)*100)"
   ]
  },
  {
   "cell_type": "markdown",
   "metadata": {},
   "source": [
    "We can clearly see that percentage of Charged off are greater than Fully paid in below Grades:\n",
    "\n",
    "C,D,E,F,G\n",
    "\n",
    "While percentage of Fully paid is greater in:\n",
    "\n",
    "A and B"
   ]
  },
  {
   "cell_type": "code",
   "execution_count": 72,
   "metadata": {},
   "outputs": [
    {
     "name": "stdout",
     "output_type": "stream",
     "text": [
      "term  loan_status\n",
      "36    Charged Off     3214\n",
      "      Fully Paid     25835\n",
      "60    Charged Off     2397\n",
      "      Fully Paid      7081\n",
      "Name: id, dtype: int64\n"
     ]
    },
    {
     "data": {
      "text/plain": [
       "<matplotlib.axes._subplots.AxesSubplot at 0x1ad1c40bc88>"
      ]
     },
     "execution_count": 72,
     "metadata": {},
     "output_type": "execute_result"
    },
    {
     "data": {
      "image/png": "[encoded data removed]",
      "text/plain": [
       "<matplotlib.figure.Figure at 0x1ad1bfdc0b8>"
      ]
     },
     "metadata": {},
     "output_type": "display_data"
    }
   ],
   "source": [
    "print(loan_4.groupby(['term','loan_status'])['id'].agg('count'))\n",
    "sns.countplot(x=\"term\", hue=\"loan_status\", data = loan_4,palette=\"pastel\")"
   ]
  },
  {
   "cell_type": "code",
   "execution_count": 80,
   "metadata": {},
   "outputs": [
    {
     "name": "stdout",
     "output_type": "stream",
     "text": [
      "36    57.280342\n",
      "60    42.719658\n",
      "Name: term, dtype: float64\n",
      "36    78.487666\n",
      "60    21.512334\n",
      "Name: term, dtype: float64\n"
     ]
    }
   ],
   "source": [
    "print(loan_4.loc[loan_4['loan_status']=='Charged Off',\"term\"].value_counts()/len(loan_4[loan_4['loan_status']=='Charged Off'].index)*100)\n",
    "print(loan_4.loc[loan_4['loan_status']=='Fully Paid',\"term\"].value_counts()/len(loan_4[loan_4['loan_status']=='Fully Paid'].index)*100)"
   ]
  },
  {
   "cell_type": "markdown",
   "metadata": {},
   "source": [
    "Higher % of charged off in 60 Month term and Higher % of Fully paid in 36 Month Term"
   ]
  },
  {
   "cell_type": "code",
   "execution_count": 73,
   "metadata": {},
   "outputs": [
    {
     "data": {
      "text/plain": [
       "loan_status  verification_status\n",
       "Charged Off  Not Verified            18545925\n",
       "             Source Verified         15307950\n",
       "             Verified                34171400\n",
       "Fully Paid   Not Verified           121339050\n",
       "             Source Verified         81131875\n",
       "             Verified               155430000\n",
       "Name: loan_amnt, dtype: int64"
      ]
     },
     "execution_count": 73,
     "metadata": {},
     "output_type": "execute_result"
    }
   ],
   "source": [
    "Loand_group_table = loan_4.groupby(['loan_status','verification_status'])['loan_amnt'].agg('sum')\n",
    "Loand_group_table"
   ]
  },
  {
   "cell_type": "code",
   "execution_count": 81,
   "metadata": {},
   "outputs": [
    {
     "name": "stdout",
     "output_type": "stream",
     "text": [
      "Not Verified       38.050258\n",
      "Verified           36.446266\n",
      "Source Verified    25.503475\n",
      "Name: verification_status, dtype: float64\n",
      "Not Verified       44.142666\n",
      "Verified           30.839106\n",
      "Source Verified    25.018228\n",
      "Name: verification_status, dtype: float64\n"
     ]
    }
   ],
   "source": [
    "print(loan_4.loc[loan_4['loan_status']=='Charged Off',\"verification_status\"].value_counts()/len(loan_4[loan_4['loan_status']=='Charged Off'].index)*100)\n",
    "print(loan_4.loc[loan_4['loan_status']=='Fully Paid',\"verification_status\"].value_counts()/len(loan_4[loan_4['loan_status']=='Fully Paid'].index)*100)"
   ]
  },
  {
   "cell_type": "code",
   "execution_count": 74,
   "metadata": {},
   "outputs": [
    {
     "data": {
      "text/plain": [
       "<matplotlib.axes._subplots.AxesSubplot at 0x1ad1c459668>"
      ]
     },
     "execution_count": 74,
     "metadata": {},
     "output_type": "execute_result"
    },
    {
     "data": {
      "image/png": "[encoded data removed]",
      "text/plain": [
       "<matplotlib.figure.Figure at 0x1ad1b185550>"
      ]
     },
     "metadata": {},
     "output_type": "display_data"
    }
   ],
   "source": [
    "Loand_group_table.plot(kind = 'bar',color = \"coral\",figsize = (20,15), fontsize = 13)"
   ]
  },
  {
   "cell_type": "code",
   "execution_count": 75,
   "metadata": {},
   "outputs": [
    {
     "data": {
      "text/plain": [
       "Index(['id', 'member_id', 'loan_amnt', 'funded_amnt', 'funded_amnt_inv',\n",
       "       'term', 'int_rate', 'installment', 'grade', 'sub_grade', 'emp_title',\n",
       "       'emp_length', 'home_ownership', 'annual_inc', 'verification_status',\n",
       "       'issue_d', 'loan_status', 'pymnt_plan', 'url', 'desc', 'purpose',\n",
       "       'title', 'zip_code', 'addr_state', 'dti', 'delinq_2yrs',\n",
       "       'earliest_cr_line', 'inq_last_6mths', 'mths_since_last_delinq',\n",
       "       'open_acc', 'pub_rec', 'revol_bal', 'revol_util', 'total_acc',\n",
       "       'out_prncp', 'out_prncp_inv', 'total_pymnt', 'total_pymnt_inv',\n",
       "       'total_rec_prncp', 'total_rec_int', 'total_rec_late_fee', 'recoveries',\n",
       "       'collection_recovery_fee', 'last_pymnt_d', 'last_pymnt_amnt',\n",
       "       'last_credit_pull_d', 'pub_rec_bankruptcies', 'year',\n",
       "       'Interest_Rates_Slab', 'Emp_Exp_Slab', 'loan_condition', 'region',\n",
       "       'complete_date'],\n",
       "      dtype='object')"
      ]
     },
     "execution_count": 75,
     "metadata": {},
     "output_type": "execute_result"
    }
   ],
   "source": [
    "loan_4.columns"
   ]
  },
  {
   "cell_type": "code",
   "execution_count": 76,
   "metadata": {},
   "outputs": [
    {
     "data": {
      "text/plain": [
       "loan_status  grade\n",
       "Charged Off  A          4695550\n",
       "             B         15540725\n",
       "             C         14858600\n",
       "             D         13628200\n",
       "             E         11323925\n",
       "             F          6128450\n",
       "             G          1849825\n",
       "Fully Paid   A         81879875\n",
       "             B        112117275\n",
       "             C         69813750\n",
       "             D         48021225\n",
       "             E         30385975\n",
       "             F         11500000\n",
       "             G          4182825\n",
       "Name: loan_amnt, dtype: int64"
      ]
     },
     "execution_count": 76,
     "metadata": {},
     "output_type": "execute_result"
    }
   ],
   "source": [
    "Loand_group_table_by_grade = loan_4.groupby(['loan_status','grade'])['loan_amnt'].agg('sum')\n",
    "Loand_group_table_by_grade"
   ]
  },
  {
   "cell_type": "code",
   "execution_count": 77,
   "metadata": {},
   "outputs": [
    {
     "data": {
      "text/plain": [
       "<matplotlib.axes._subplots.AxesSubplot at 0x1ad1c484710>"
      ]
     },
     "execution_count": 77,
     "metadata": {},
     "output_type": "execute_result"
    },
    {
     "data": {
      "image/png": "[encoded data removed]",
      "text/plain": [
       "<matplotlib.figure.Figure at 0x1ad1c4c25f8>"
      ]
     },
     "metadata": {},
     "output_type": "display_data"
    }
   ],
   "source": [
    "Loand_group_table_by_grade.plot(kind = 'bar',color = \"yellow\",figsize = (20,15), fontsize = 13)"
   ]
  },
  {
   "cell_type": "code",
   "execution_count": 83,
   "metadata": {},
   "outputs": [
    {
     "name": "stdout",
     "output_type": "stream",
     "text": [
      "No record    61.914097\n",
      "Old          23.970772\n",
      "2Year         8.216004\n",
      "12Month       3.118874\n",
      "Recent        2.780253\n",
      "Name: last_delinq_slab, dtype: float64\n",
      "No record    64.995747\n",
      "Old          22.627294\n",
      "2Year         7.096853\n",
      "12Month       2.694738\n",
      "Recent        2.585369\n",
      "Name: last_delinq_slab, dtype: float64\n"
     ]
    }
   ],
   "source": [
    "# Number of months since delq:\n",
    "print(loan_4.loc[loan_4['loan_status']=='Charged Off',\"last_delinq_slab\"].value_counts()/len(loan_4[loan_4['loan_status']=='Charged Off'].index)*100)\n",
    "print(loan_4.loc[loan_4['loan_status']=='Fully Paid',\"last_delinq_slab\"].value_counts()/len(loan_4[loan_4['loan_status']=='Fully Paid'].index)*100)"
   ]
  },
  {
   "cell_type": "code",
   "execution_count": 84,
   "metadata": {},
   "outputs": [],
   "source": [
    "set1 = pd.DataFrame(loan_4.loc[loan_4['loan_status']=='Charged Off',\"last_delinq_slab\"].value_counts()/len(loan_4[loan_4['loan_status']=='Charged Off'].index)*100)\n",
    "set2 = pd.DataFrame(loan_4.loc[loan_4['loan_status']=='Fully Paid',\"last_delinq_slab\"].value_counts()/len(loan_4[loan_4['loan_status']=='Fully Paid'].index)*100)"
   ]
  },
  {
   "cell_type": "code",
   "execution_count": 88,
   "metadata": {},
   "outputs": [
    {
     "data": {
      "text/plain": [
       "<matplotlib.axes._subplots.AxesSubplot at 0x1ad1dc38828>"
      ]
     },
     "execution_count": 88,
     "metadata": {},
     "output_type": "execute_result"
    },
    {
     "data": {
      "image/png": "[encoded data removed]",
      "text/plain": [
       "<matplotlib.figure.Figure at 0x1ad1dbe09e8>"
      ]
     },
     "metadata": {},
     "output_type": "display_data"
    }
   ],
   "source": [
    "fig = plt.figure(figsize=(20,10))\n",
    "plt.subplot(1,2,1)\n",
    "sns.barplot(x=set1.index,y='last_delinq_slab',data=set1)\n",
    "\n",
    "plt.subplot(1,2,2)\n",
    "sns.barplot(x=set2.index,y='last_delinq_slab',data=set2)"
   ]
  },
  {
   "cell_type": "markdown",
   "metadata": {},
   "source": [
    "Where there is no Delinquency recorded, % of Fully Paid Customers is higher than Charged off."
   ]
  },
  {
   "cell_type": "code",
   "execution_count": 90,
   "metadata": {},
   "outputs": [
    {
     "name": "stdout",
     "output_type": "stream",
     "text": [
      "High         29.691677\n",
      "Very High    29.656033\n",
      "Medium       23.632151\n",
      "Low          17.020139\n",
      "Name: revol_util_slab, dtype: float64\n",
      "Medium       26.655730\n",
      "High         26.291165\n",
      "Low          26.096731\n",
      "Very High    20.956374\n",
      "Name: revol_util_slab, dtype: float64\n"
     ]
    }
   ],
   "source": [
    "# On Revolving utilization:\n",
    "print(loan_4.loc[loan_4['loan_status']=='Charged Off',\"revol_util_slab\"].value_counts()/len(loan_4[loan_4['loan_status']=='Charged Off'].index)*100)\n",
    "print(loan_4.loc[loan_4['loan_status']=='Fully Paid',\"revol_util_slab\"].value_counts()/len(loan_4[loan_4['loan_status']=='Fully Paid'].index)*100)"
   ]
  },
  {
   "cell_type": "code",
   "execution_count": 91,
   "metadata": {},
   "outputs": [],
   "source": [
    "set3 = pd.DataFrame(loan_4.loc[loan_4['loan_status']=='Charged Off',\"revol_util_slab\"].value_counts()/len(loan_4[loan_4['loan_status']=='Charged Off'].index)*100)\n",
    "set4 = pd.DataFrame(loan_4.loc[loan_4['loan_status']=='Fully Paid',\"revol_util_slab\"].value_counts()/len(loan_4[loan_4['loan_status']=='Fully Paid'].index)*100)"
   ]
  },
  {
   "cell_type": "code",
   "execution_count": 93,
   "metadata": {},
   "outputs": [
    {
     "data": {
      "text/plain": [
       "<matplotlib.axes._subplots.AxesSubplot at 0x1ad1ce2add8>"
      ]
     },
     "execution_count": 93,
     "metadata": {},
     "output_type": "execute_result"
    },
    {
     "data": {
      "image/png": "[encoded data removed]",
      "text/plain": [
       "<matplotlib.figure.Figure at 0x1ad2214eb38>"
      ]
     },
     "metadata": {},
     "output_type": "display_data"
    }
   ],
   "source": [
    "fig = plt.figure(figsize=(20,10))\n",
    "plt.subplot(1,2,1)\n",
    "sns.barplot(x=set3.index,y='revol_util_slab',data=set3)\n",
    "\n",
    "plt.subplot(1,2,2)\n",
    "sns.barplot(x=set4.index,y='revol_util_slab',data=set4)"
   ]
  },
  {
   "cell_type": "markdown",
   "metadata": {},
   "source": [
    "Charged Off % is higher for:\u000b",
    "Very High and High Utilisation rate.\n",
    "Fully Paid % is higher for:\u000b",
    "Low and Medium Utilisation rate."
   ]
  },
  {
   "cell_type": "code",
   "execution_count": 95,
   "metadata": {},
   "outputs": [
    {
     "name": "stdout",
     "output_type": "stream",
     "text": [
      "Low          87.078952\n",
      "Medium       11.905186\n",
      "High          0.784174\n",
      "Very High     0.231688\n",
      "Name: inq_slab, dtype: float64\n",
      "Low          91.414510\n",
      "Medium        7.983959\n",
      "High          0.495200\n",
      "Very High     0.106331\n",
      "Name: inq_slab, dtype: float64\n"
     ]
    }
   ],
   "source": [
    "# On number of enquiries:\n",
    "print(loan_4.loc[loan_4['loan_status']=='Charged Off',\"inq_slab\"].value_counts()/len(loan_4[loan_4['loan_status']=='Charged Off'].index)*100)\n",
    "print(loan_4.loc[loan_4['loan_status']=='Fully Paid',\"inq_slab\"].value_counts()/len(loan_4[loan_4['loan_status']=='Fully Paid'].index)*100)"
   ]
  },
  {
   "cell_type": "code",
   "execution_count": 96,
   "metadata": {},
   "outputs": [],
   "source": [
    "set5 = pd.DataFrame(loan_4.loc[loan_4['loan_status']=='Charged Off',\"inq_slab\"].value_counts()/len(loan_4[loan_4['loan_status']=='Charged Off'].index)*100)\n",
    "set6 = pd.DataFrame(loan_4.loc[loan_4['loan_status']=='Fully Paid',\"inq_slab\"].value_counts()/len(loan_4[loan_4['loan_status']=='Fully Paid'].index)*100)"
   ]
  },
  {
   "cell_type": "code",
   "execution_count": 97,
   "metadata": {},
   "outputs": [
    {
     "data": {
      "text/plain": [
       "<matplotlib.axes._subplots.AxesSubplot at 0x1ad1ce880f0>"
      ]
     },
     "execution_count": 97,
     "metadata": {},
     "output_type": "execute_result"
    },
    {
     "data": {
      "image/png": "[encoded data removed]",
      "text/plain": [
       "<matplotlib.figure.Figure at 0x1ad1ce59940>"
      ]
     },
     "metadata": {},
     "output_type": "display_data"
    }
   ],
   "source": [
    "fig = plt.figure(figsize=(20,10))\n",
    "plt.subplot(1,2,1)\n",
    "sns.barplot(x=set5.index,y='inq_slab',data=set5)\n",
    "\n",
    "plt.subplot(1,2,2)\n",
    "sns.barplot(x=set6.index,y='inq_slab',data=set6)"
   ]
  },
  {
   "cell_type": "code",
   "execution_count": null,
   "metadata": {},
   "outputs": [],
   "source": []
  }
 ],
 "metadata": {
  "kernelspec": {
   "display_name": "Python 3",
   "language": "python",
   "name": "python3"
  },
  "language_info": {
   "codemirror_mode": {
    "name": "ipython",
    "version": 3
   },
   "file_extension": ".py",
   "mimetype": "text/x-python",
   "name": "python",
   "nbconvert_exporter": "python",
   "pygments_lexer": "ipython3",
   "version": "3.6.5"
  }
 },
 "nbformat": 4,
 "nbformat_minor": 2
}
